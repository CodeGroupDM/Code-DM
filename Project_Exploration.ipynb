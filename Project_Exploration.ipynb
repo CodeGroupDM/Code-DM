{
 "cells": [
  {
   "cell_type": "markdown",
   "id": "89d3aea9",
   "metadata": {},
   "source": [
    "<b><font size=\"5\">Data importation and integration & Exploration</font><a class=\"anchor\"><a id='toc'></a></b>"
   ]
  },
  {
   "cell_type": "code",
   "execution_count": 1,
   "id": "aa6ae689",
   "metadata": {},
   "outputs": [],
   "source": [
    "# Import relevant libraries\n",
    "import warnings\n",
    "warnings.simplefilter(\"ignore\")\n",
    "import pandas as pd\n",
    "import numpy as np\n",
    "import matplotlib.pyplot as plt\n",
    "import seaborn as sns\n",
    "from sklearn.cluster import KMeans\n",
    "from scipy.cluster.hierarchy import dendrogram, linkage"
   ]
  },
  {
   "cell_type": "code",
   "execution_count": 2,
   "id": "16731957",
   "metadata": {},
   "outputs": [],
   "source": [
    "# Import dataset WineMatters and save in variable wm\n",
    "wm = pd.read_csv(r'data\\WineMatters.csv')"
   ]
  },
  {
   "cell_type": "code",
   "execution_count": 3,
   "id": "2565f381",
   "metadata": {
    "scrolled": true
   },
   "outputs": [],
   "source": [
    "# Set WineID as index and show dataset\n",
    "wm.set_index('WineID', inplace = True)"
   ]
  },
  {
   "cell_type": "code",
   "execution_count": 4,
   "id": "a2ba3efa",
   "metadata": {
    "scrolled": true
   },
   "outputs": [
    {
     "data": {
      "text/html": [
       "<div>\n",
       "<style scoped>\n",
       "    .dataframe tbody tr th:only-of-type {\n",
       "        vertical-align: middle;\n",
       "    }\n",
       "\n",
       "    .dataframe tbody tr th {\n",
       "        vertical-align: top;\n",
       "    }\n",
       "\n",
       "    .dataframe thead th {\n",
       "        text-align: right;\n",
       "    }\n",
       "</style>\n",
       "<table border=\"1\" class=\"dataframe\">\n",
       "  <thead>\n",
       "    <tr style=\"text-align: right;\">\n",
       "      <th></th>\n",
       "      <th>Aging_Time</th>\n",
       "      <th>Litters_Barrel</th>\n",
       "      <th>Type</th>\n",
       "      <th>Magnesium</th>\n",
       "      <th>Residual_Sugar</th>\n",
       "      <th>Sulphites</th>\n",
       "      <th>Barrel</th>\n",
       "      <th>Grapes</th>\n",
       "      <th>Acidity</th>\n",
       "      <th>Floral</th>\n",
       "      <th>...</th>\n",
       "      <th>Red_Fruit</th>\n",
       "      <th>Citric</th>\n",
       "      <th>Density</th>\n",
       "      <th>Color_Intensity</th>\n",
       "      <th>Cloudiness</th>\n",
       "      <th>Alcohol</th>\n",
       "      <th>Astringency</th>\n",
       "      <th>Satisfaction_France</th>\n",
       "      <th>Satisfaction_Spain</th>\n",
       "      <th>Satisfaction_Portugal</th>\n",
       "    </tr>\n",
       "    <tr>\n",
       "      <th>WineID</th>\n",
       "      <th></th>\n",
       "      <th></th>\n",
       "      <th></th>\n",
       "      <th></th>\n",
       "      <th></th>\n",
       "      <th></th>\n",
       "      <th></th>\n",
       "      <th></th>\n",
       "      <th></th>\n",
       "      <th></th>\n",
       "      <th></th>\n",
       "      <th></th>\n",
       "      <th></th>\n",
       "      <th></th>\n",
       "      <th></th>\n",
       "      <th></th>\n",
       "      <th></th>\n",
       "      <th></th>\n",
       "      <th></th>\n",
       "      <th></th>\n",
       "      <th></th>\n",
       "    </tr>\n",
       "  </thead>\n",
       "  <tbody>\n",
       "    <tr>\n",
       "      <th>1</th>\n",
       "      <td>65</td>\n",
       "      <td>265</td>\n",
       "      <td>White</td>\n",
       "      <td>0</td>\n",
       "      <td>0.0</td>\n",
       "      <td>Not Present</td>\n",
       "      <td>Aluminium</td>\n",
       "      <td>Single</td>\n",
       "      <td>0</td>\n",
       "      <td>5</td>\n",
       "      <td>...</td>\n",
       "      <td>2</td>\n",
       "      <td>4</td>\n",
       "      <td>2</td>\n",
       "      <td>3</td>\n",
       "      <td>3</td>\n",
       "      <td>0</td>\n",
       "      <td>0</td>\n",
       "      <td>6</td>\n",
       "      <td>6</td>\n",
       "      <td>4</td>\n",
       "    </tr>\n",
       "    <tr>\n",
       "      <th>2</th>\n",
       "      <td>47</td>\n",
       "      <td>2464</td>\n",
       "      <td>Red</td>\n",
       "      <td>310</td>\n",
       "      <td>305.0</td>\n",
       "      <td>Present</td>\n",
       "      <td>Aluminium</td>\n",
       "      <td>Single</td>\n",
       "      <td>4</td>\n",
       "      <td>2</td>\n",
       "      <td>...</td>\n",
       "      <td>0</td>\n",
       "      <td>2</td>\n",
       "      <td>2</td>\n",
       "      <td>3</td>\n",
       "      <td>4</td>\n",
       "      <td>0</td>\n",
       "      <td>0</td>\n",
       "      <td>8</td>\n",
       "      <td>6</td>\n",
       "      <td>4</td>\n",
       "    </tr>\n",
       "    <tr>\n",
       "      <th>3</th>\n",
       "      <td>15</td>\n",
       "      <td>2138</td>\n",
       "      <td>White</td>\n",
       "      <td>0</td>\n",
       "      <td>0.0</td>\n",
       "      <td>Not Present</td>\n",
       "      <td>Aluminium</td>\n",
       "      <td>Single</td>\n",
       "      <td>3</td>\n",
       "      <td>4</td>\n",
       "      <td>...</td>\n",
       "      <td>2</td>\n",
       "      <td>0</td>\n",
       "      <td>2</td>\n",
       "      <td>2</td>\n",
       "      <td>3</td>\n",
       "      <td>0</td>\n",
       "      <td>0</td>\n",
       "      <td>8</td>\n",
       "      <td>8</td>\n",
       "      <td>4</td>\n",
       "    </tr>\n",
       "    <tr>\n",
       "      <th>4</th>\n",
       "      <td>60</td>\n",
       "      <td>623</td>\n",
       "      <td>White</td>\n",
       "      <td>0</td>\n",
       "      <td>0.0</td>\n",
       "      <td>Not Present</td>\n",
       "      <td>Aluminium</td>\n",
       "      <td>Single</td>\n",
       "      <td>0</td>\n",
       "      <td>4</td>\n",
       "      <td>...</td>\n",
       "      <td>3</td>\n",
       "      <td>4</td>\n",
       "      <td>3</td>\n",
       "      <td>1</td>\n",
       "      <td>1</td>\n",
       "      <td>0</td>\n",
       "      <td>0</td>\n",
       "      <td>2</td>\n",
       "      <td>2</td>\n",
       "      <td>6</td>\n",
       "    </tr>\n",
       "    <tr>\n",
       "      <th>5</th>\n",
       "      <td>70</td>\n",
       "      <td>354</td>\n",
       "      <td>White</td>\n",
       "      <td>0</td>\n",
       "      <td>0.0</td>\n",
       "      <td>Not Present</td>\n",
       "      <td>Aluminium</td>\n",
       "      <td>Single</td>\n",
       "      <td>0</td>\n",
       "      <td>4</td>\n",
       "      <td>...</td>\n",
       "      <td>4</td>\n",
       "      <td>3</td>\n",
       "      <td>4</td>\n",
       "      <td>2</td>\n",
       "      <td>2</td>\n",
       "      <td>0</td>\n",
       "      <td>0</td>\n",
       "      <td>4</td>\n",
       "      <td>4</td>\n",
       "      <td>10</td>\n",
       "    </tr>\n",
       "  </tbody>\n",
       "</table>\n",
       "<p>5 rows × 22 columns</p>\n",
       "</div>"
      ],
      "text/plain": [
       "        Aging_Time  Litters_Barrel   Type  Magnesium  Residual_Sugar  \\\n",
       "WineID                                                                 \n",
       "1               65             265  White          0             0.0   \n",
       "2               47            2464    Red        310           305.0   \n",
       "3               15            2138  White          0             0.0   \n",
       "4               60             623  White          0             0.0   \n",
       "5               70             354  White          0             0.0   \n",
       "\n",
       "          Sulphites     Barrel  Grapes  Acidity  Floral  ...  Red_Fruit  \\\n",
       "WineID                                                   ...              \n",
       "1       Not Present  Aluminium  Single        0       5  ...          2   \n",
       "2           Present  Aluminium  Single        4       2  ...          0   \n",
       "3       Not Present  Aluminium  Single        3       4  ...          2   \n",
       "4       Not Present  Aluminium  Single        0       4  ...          3   \n",
       "5       Not Present  Aluminium  Single        0       4  ...          4   \n",
       "\n",
       "        Citric  Density  Color_Intensity  Cloudiness  Alcohol  Astringency  \\\n",
       "WineID                                                                       \n",
       "1            4        2                3           3        0            0   \n",
       "2            2        2                3           4        0            0   \n",
       "3            0        2                2           3        0            0   \n",
       "4            4        3                1           1        0            0   \n",
       "5            3        4                2           2        0            0   \n",
       "\n",
       "        Satisfaction_France  Satisfaction_Spain  Satisfaction_Portugal  \n",
       "WineID                                                                  \n",
       "1                         6                   6                      4  \n",
       "2                         8                   6                      4  \n",
       "3                         8                   8                      4  \n",
       "4                         2                   2                      6  \n",
       "5                         4                   4                     10  \n",
       "\n",
       "[5 rows x 22 columns]"
      ]
     },
     "execution_count": 4,
     "metadata": {},
     "output_type": "execute_result"
    }
   ],
   "source": [
    "# Show dataset\n",
    "wm.head()"
   ]
  },
  {
   "cell_type": "markdown",
   "id": "f783b074",
   "metadata": {},
   "source": [
    "<b><font size=\"5\">Data Exploration</font><a class=\"anchor\"><a id='toc'></a></b>"
   ]
  },
  {
   "cell_type": "code",
   "execution_count": 5,
   "id": "5b7f4f2f",
   "metadata": {},
   "outputs": [
    {
     "data": {
      "text/plain": [
       "(129881, 22)"
      ]
     },
     "execution_count": 5,
     "metadata": {},
     "output_type": "execute_result"
    }
   ],
   "source": [
    "# Check number of rows and columns\n",
    "wm.shape"
   ]
  },
  {
   "cell_type": "markdown",
   "id": "9b8a55ac",
   "metadata": {},
   "source": [
    "We can observe that the dataset contains 129881 rows and 22 columns."
   ]
  },
  {
   "cell_type": "code",
   "execution_count": 6,
   "id": "0f50d6ea",
   "metadata": {},
   "outputs": [
    {
     "data": {
      "text/plain": [
       "Index(['Aging_Time', 'Litters_Barrel', 'Type', 'Magnesium', 'Residual_Sugar',\n",
       "       'Sulphites', 'Barrel', 'Grapes', 'Acidity', 'Floral', 'Wood',\n",
       "       'Sweetness', 'Red_Fruit', 'Citric', 'Density', 'Color_Intensity',\n",
       "       'Cloudiness', 'Alcohol', 'Astringency', 'Satisfaction_France',\n",
       "       'Satisfaction_Spain', 'Satisfaction_Portugal'],\n",
       "      dtype='object')"
      ]
     },
     "execution_count": 6,
     "metadata": {},
     "output_type": "execute_result"
    }
   ],
   "source": [
    "# Check column names\n",
    "wm.columns"
   ]
  },
  {
   "cell_type": "code",
   "execution_count": 7,
   "id": "5079b27e",
   "metadata": {},
   "outputs": [
    {
     "name": "stdout",
     "output_type": "stream",
     "text": [
      "<class 'pandas.core.frame.DataFrame'>\n",
      "Int64Index: 129881 entries, 1 to 129880\n",
      "Data columns (total 22 columns):\n",
      " #   Column                 Non-Null Count   Dtype  \n",
      "---  ------                 --------------   -----  \n",
      " 0   Aging_Time             129881 non-null  int64  \n",
      " 1   Litters_Barrel         129881 non-null  int64  \n",
      " 2   Type                   129881 non-null  object \n",
      " 3   Magnesium              129881 non-null  int64  \n",
      " 4   Residual_Sugar         129490 non-null  float64\n",
      " 5   Sulphites              129881 non-null  object \n",
      " 6   Barrel                 129825 non-null  object \n",
      " 7   Grapes                 129873 non-null  object \n",
      " 8   Acidity                129881 non-null  int64  \n",
      " 9   Floral                 129881 non-null  int64  \n",
      " 10  Wood                   129881 non-null  int64  \n",
      " 11  Sweetness              129881 non-null  int64  \n",
      " 12  Red_Fruit              129881 non-null  int64  \n",
      " 13  Citric                 129881 non-null  int64  \n",
      " 14  Density                129881 non-null  int64  \n",
      " 15  Color_Intensity        129881 non-null  int64  \n",
      " 16  Cloudiness             129881 non-null  int64  \n",
      " 17  Alcohol                129881 non-null  int64  \n",
      " 18  Astringency            129881 non-null  int64  \n",
      " 19  Satisfaction_France    129881 non-null  int64  \n",
      " 20  Satisfaction_Spain     129881 non-null  int64  \n",
      " 21  Satisfaction_Portugal  129881 non-null  int64  \n",
      "dtypes: float64(1), int64(17), object(4)\n",
      "memory usage: 22.8+ MB\n"
     ]
    }
   ],
   "source": [
    "# Check the data type of the variables and the non-missing values for each variable in the dataset\n",
    "wm.info()"
   ]
  },
  {
   "cell_type": "markdown",
   "id": "3efc9f9a",
   "metadata": {},
   "source": [
    "In this dataset, we can verify that we have:\n",
    "\n",
    "- 1 variables with the type float;\n",
    "- 18 variables that are integer;\n",
    "- 4 variables that are objects, which is the same as to say categorical variables."
   ]
  },
  {
   "cell_type": "code",
   "execution_count": 8,
   "id": "a68653be",
   "metadata": {},
   "outputs": [
    {
     "data": {
      "text/plain": [
       "Aging_Time                 0\n",
       "Litters_Barrel             0\n",
       "Type                       0\n",
       "Magnesium                  0\n",
       "Residual_Sugar           391\n",
       "Sulphites                  0\n",
       "Barrel                    56\n",
       "Grapes                     8\n",
       "Acidity                    0\n",
       "Floral                     0\n",
       "Wood                       0\n",
       "Sweetness                  0\n",
       "Red_Fruit                  0\n",
       "Citric                     0\n",
       "Density                    0\n",
       "Color_Intensity            0\n",
       "Cloudiness                 0\n",
       "Alcohol                    0\n",
       "Astringency                0\n",
       "Satisfaction_France        0\n",
       "Satisfaction_Spain         0\n",
       "Satisfaction_Portugal      0\n",
       "dtype: int64"
      ]
     },
     "execution_count": 8,
     "metadata": {},
     "output_type": "execute_result"
    }
   ],
   "source": [
    "# Checking and identifying missing values \n",
    "wm.isna().sum()"
   ]
  },
  {
   "cell_type": "markdown",
   "id": "20a3f69f",
   "metadata": {},
   "source": [
    "We  can conclude that we have missing values on some of the variables, namely:\n",
    "- Residual_Sugar (391 missing values)\n",
    "- Barrel (56 missing value);\n",
    "- Grapes (8 missing values)"
   ]
  },
  {
   "cell_type": "code",
   "execution_count": 9,
   "id": "c283f7c8",
   "metadata": {},
   "outputs": [
    {
     "data": {
      "text/html": [
       "<div>\n",
       "<style scoped>\n",
       "    .dataframe tbody tr th:only-of-type {\n",
       "        vertical-align: middle;\n",
       "    }\n",
       "\n",
       "    .dataframe tbody tr th {\n",
       "        vertical-align: top;\n",
       "    }\n",
       "\n",
       "    .dataframe thead th {\n",
       "        text-align: right;\n",
       "    }\n",
       "</style>\n",
       "<table border=\"1\" class=\"dataframe\">\n",
       "  <thead>\n",
       "    <tr style=\"text-align: right;\">\n",
       "      <th></th>\n",
       "      <th>Aging_Time</th>\n",
       "      <th>Litters_Barrel</th>\n",
       "      <th>Magnesium</th>\n",
       "      <th>Residual_Sugar</th>\n",
       "      <th>Acidity</th>\n",
       "      <th>Floral</th>\n",
       "      <th>Wood</th>\n",
       "      <th>Sweetness</th>\n",
       "      <th>Red_Fruit</th>\n",
       "      <th>Citric</th>\n",
       "      <th>Density</th>\n",
       "      <th>Color_Intensity</th>\n",
       "      <th>Cloudiness</th>\n",
       "      <th>Alcohol</th>\n",
       "      <th>Astringency</th>\n",
       "      <th>Satisfaction_France</th>\n",
       "      <th>Satisfaction_Spain</th>\n",
       "      <th>Satisfaction_Portugal</th>\n",
       "    </tr>\n",
       "  </thead>\n",
       "  <tbody>\n",
       "    <tr>\n",
       "      <th>count</th>\n",
       "      <td>129881.000000</td>\n",
       "      <td>129881.000000</td>\n",
       "      <td>129881.000000</td>\n",
       "      <td>129490.000000</td>\n",
       "      <td>129881.000000</td>\n",
       "      <td>129881.000000</td>\n",
       "      <td>129881.000000</td>\n",
       "      <td>129881.000000</td>\n",
       "      <td>129881.000000</td>\n",
       "      <td>129881.000000</td>\n",
       "      <td>129881.000000</td>\n",
       "      <td>129881.000000</td>\n",
       "      <td>129881.000000</td>\n",
       "      <td>129881.000000</td>\n",
       "      <td>129881.000000</td>\n",
       "      <td>129881.000000</td>\n",
       "      <td>129881.000000</td>\n",
       "      <td>129881.000000</td>\n",
       "    </tr>\n",
       "    <tr>\n",
       "      <th>mean</th>\n",
       "      <td>39.427907</td>\n",
       "      <td>1981.419854</td>\n",
       "      <td>14.713599</td>\n",
       "      <td>15.090779</td>\n",
       "      <td>3.485914</td>\n",
       "      <td>3.340820</td>\n",
       "      <td>2.851972</td>\n",
       "      <td>2.990422</td>\n",
       "      <td>3.249113</td>\n",
       "      <td>3.383451</td>\n",
       "      <td>3.519683</td>\n",
       "      <td>3.472086</td>\n",
       "      <td>3.466743</td>\n",
       "      <td>2.838575</td>\n",
       "      <td>2.990653</td>\n",
       "      <td>7.391351</td>\n",
       "      <td>7.411523</td>\n",
       "      <td>6.705138</td>\n",
       "    </tr>\n",
       "    <tr>\n",
       "      <th>std</th>\n",
       "      <td>15.119312</td>\n",
       "      <td>1027.119025</td>\n",
       "      <td>38.071002</td>\n",
       "      <td>38.465273</td>\n",
       "      <td>1.292228</td>\n",
       "      <td>1.260586</td>\n",
       "      <td>1.443746</td>\n",
       "      <td>1.305965</td>\n",
       "      <td>1.318827</td>\n",
       "      <td>1.346087</td>\n",
       "      <td>1.306524</td>\n",
       "      <td>1.305573</td>\n",
       "      <td>1.273503</td>\n",
       "      <td>1.393000</td>\n",
       "      <td>1.527221</td>\n",
       "      <td>2.312959</td>\n",
       "      <td>2.303540</td>\n",
       "      <td>2.597452</td>\n",
       "    </tr>\n",
       "    <tr>\n",
       "      <th>min</th>\n",
       "      <td>7.000000</td>\n",
       "      <td>50.000000</td>\n",
       "      <td>0.000000</td>\n",
       "      <td>0.000000</td>\n",
       "      <td>0.000000</td>\n",
       "      <td>0.000000</td>\n",
       "      <td>0.000000</td>\n",
       "      <td>0.000000</td>\n",
       "      <td>0.000000</td>\n",
       "      <td>0.000000</td>\n",
       "      <td>0.000000</td>\n",
       "      <td>0.000000</td>\n",
       "      <td>0.000000</td>\n",
       "      <td>0.000000</td>\n",
       "      <td>0.000000</td>\n",
       "      <td>2.000000</td>\n",
       "      <td>0.000000</td>\n",
       "      <td>0.000000</td>\n",
       "    </tr>\n",
       "    <tr>\n",
       "      <th>25%</th>\n",
       "      <td>27.000000</td>\n",
       "      <td>1359.000000</td>\n",
       "      <td>0.000000</td>\n",
       "      <td>0.000000</td>\n",
       "      <td>2.000000</td>\n",
       "      <td>3.000000</td>\n",
       "      <td>2.000000</td>\n",
       "      <td>2.000000</td>\n",
       "      <td>2.000000</td>\n",
       "      <td>2.000000</td>\n",
       "      <td>3.000000</td>\n",
       "      <td>2.000000</td>\n",
       "      <td>3.000000</td>\n",
       "      <td>2.000000</td>\n",
       "      <td>2.000000</td>\n",
       "      <td>6.000000</td>\n",
       "      <td>6.000000</td>\n",
       "      <td>4.000000</td>\n",
       "    </tr>\n",
       "    <tr>\n",
       "      <th>50%</th>\n",
       "      <td>40.000000</td>\n",
       "      <td>1925.000000</td>\n",
       "      <td>0.000000</td>\n",
       "      <td>0.000000</td>\n",
       "      <td>4.000000</td>\n",
       "      <td>3.000000</td>\n",
       "      <td>3.000000</td>\n",
       "      <td>3.000000</td>\n",
       "      <td>3.000000</td>\n",
       "      <td>4.000000</td>\n",
       "      <td>4.000000</td>\n",
       "      <td>4.000000</td>\n",
       "      <td>4.000000</td>\n",
       "      <td>3.000000</td>\n",
       "      <td>3.000000</td>\n",
       "      <td>8.000000</td>\n",
       "      <td>8.000000</td>\n",
       "      <td>8.000000</td>\n",
       "    </tr>\n",
       "    <tr>\n",
       "      <th>75%</th>\n",
       "      <td>51.000000</td>\n",
       "      <td>2544.000000</td>\n",
       "      <td>12.000000</td>\n",
       "      <td>13.000000</td>\n",
       "      <td>5.000000</td>\n",
       "      <td>4.000000</td>\n",
       "      <td>4.000000</td>\n",
       "      <td>4.000000</td>\n",
       "      <td>4.000000</td>\n",
       "      <td>4.000000</td>\n",
       "      <td>5.000000</td>\n",
       "      <td>5.000000</td>\n",
       "      <td>4.000000</td>\n",
       "      <td>4.000000</td>\n",
       "      <td>4.000000</td>\n",
       "      <td>10.000000</td>\n",
       "      <td>10.000000</td>\n",
       "      <td>8.000000</td>\n",
       "    </tr>\n",
       "    <tr>\n",
       "      <th>max</th>\n",
       "      <td>85.000000</td>\n",
       "      <td>6951.000000</td>\n",
       "      <td>1592.000000</td>\n",
       "      <td>1584.000000</td>\n",
       "      <td>5.000000</td>\n",
       "      <td>5.000000</td>\n",
       "      <td>5.000000</td>\n",
       "      <td>5.000000</td>\n",
       "      <td>5.000000</td>\n",
       "      <td>5.000000</td>\n",
       "      <td>5.000000</td>\n",
       "      <td>5.000000</td>\n",
       "      <td>6.000000</td>\n",
       "      <td>5.000000</td>\n",
       "      <td>5.000000</td>\n",
       "      <td>10.000000</td>\n",
       "      <td>10.000000</td>\n",
       "      <td>10.000000</td>\n",
       "    </tr>\n",
       "  </tbody>\n",
       "</table>\n",
       "</div>"
      ],
      "text/plain": [
       "          Aging_Time  Litters_Barrel      Magnesium  Residual_Sugar  \\\n",
       "count  129881.000000   129881.000000  129881.000000   129490.000000   \n",
       "mean       39.427907     1981.419854      14.713599       15.090779   \n",
       "std        15.119312     1027.119025      38.071002       38.465273   \n",
       "min         7.000000       50.000000       0.000000        0.000000   \n",
       "25%        27.000000     1359.000000       0.000000        0.000000   \n",
       "50%        40.000000     1925.000000       0.000000        0.000000   \n",
       "75%        51.000000     2544.000000      12.000000       13.000000   \n",
       "max        85.000000     6951.000000    1592.000000     1584.000000   \n",
       "\n",
       "             Acidity         Floral           Wood      Sweetness  \\\n",
       "count  129881.000000  129881.000000  129881.000000  129881.000000   \n",
       "mean        3.485914       3.340820       2.851972       2.990422   \n",
       "std         1.292228       1.260586       1.443746       1.305965   \n",
       "min         0.000000       0.000000       0.000000       0.000000   \n",
       "25%         2.000000       3.000000       2.000000       2.000000   \n",
       "50%         4.000000       3.000000       3.000000       3.000000   \n",
       "75%         5.000000       4.000000       4.000000       4.000000   \n",
       "max         5.000000       5.000000       5.000000       5.000000   \n",
       "\n",
       "           Red_Fruit         Citric        Density  Color_Intensity  \\\n",
       "count  129881.000000  129881.000000  129881.000000    129881.000000   \n",
       "mean        3.249113       3.383451       3.519683         3.472086   \n",
       "std         1.318827       1.346087       1.306524         1.305573   \n",
       "min         0.000000       0.000000       0.000000         0.000000   \n",
       "25%         2.000000       2.000000       3.000000         2.000000   \n",
       "50%         3.000000       4.000000       4.000000         4.000000   \n",
       "75%         4.000000       4.000000       5.000000         5.000000   \n",
       "max         5.000000       5.000000       5.000000         5.000000   \n",
       "\n",
       "          Cloudiness        Alcohol    Astringency  Satisfaction_France  \\\n",
       "count  129881.000000  129881.000000  129881.000000        129881.000000   \n",
       "mean        3.466743       2.838575       2.990653             7.391351   \n",
       "std         1.273503       1.393000       1.527221             2.312959   \n",
       "min         0.000000       0.000000       0.000000             2.000000   \n",
       "25%         3.000000       2.000000       2.000000             6.000000   \n",
       "50%         4.000000       3.000000       3.000000             8.000000   \n",
       "75%         4.000000       4.000000       4.000000            10.000000   \n",
       "max         6.000000       5.000000       5.000000            10.000000   \n",
       "\n",
       "       Satisfaction_Spain  Satisfaction_Portugal  \n",
       "count       129881.000000          129881.000000  \n",
       "mean             7.411523               6.705138  \n",
       "std              2.303540               2.597452  \n",
       "min              0.000000               0.000000  \n",
       "25%              6.000000               4.000000  \n",
       "50%              8.000000               8.000000  \n",
       "75%             10.000000               8.000000  \n",
       "max             10.000000              10.000000  "
      ]
     },
     "execution_count": 9,
     "metadata": {},
     "output_type": "execute_result"
    }
   ],
   "source": [
    "# Get descriptive statistics for the numerical data\n",
    "wm.describe()"
   ]
  },
  {
   "cell_type": "markdown",
   "id": "cf10d37d",
   "metadata": {},
   "source": [
    "For example, we could observe that the average aging time is about 39 years."
   ]
  },
  {
   "cell_type": "code",
   "execution_count": 10,
   "id": "dbf2b086",
   "metadata": {
    "scrolled": true
   },
   "outputs": [
    {
     "data": {
      "text/html": [
       "<div>\n",
       "<style scoped>\n",
       "    .dataframe tbody tr th:only-of-type {\n",
       "        vertical-align: middle;\n",
       "    }\n",
       "\n",
       "    .dataframe tbody tr th {\n",
       "        vertical-align: top;\n",
       "    }\n",
       "\n",
       "    .dataframe thead th {\n",
       "        text-align: right;\n",
       "    }\n",
       "</style>\n",
       "<table border=\"1\" class=\"dataframe\">\n",
       "  <thead>\n",
       "    <tr style=\"text-align: right;\">\n",
       "      <th></th>\n",
       "      <th>Type</th>\n",
       "      <th>Sulphites</th>\n",
       "      <th>Barrel</th>\n",
       "      <th>Grapes</th>\n",
       "    </tr>\n",
       "  </thead>\n",
       "  <tbody>\n",
       "    <tr>\n",
       "      <th>count</th>\n",
       "      <td>129881</td>\n",
       "      <td>129881</td>\n",
       "      <td>129825</td>\n",
       "      <td>129873</td>\n",
       "    </tr>\n",
       "    <tr>\n",
       "      <th>unique</th>\n",
       "      <td>2</td>\n",
       "      <td>4</td>\n",
       "      <td>2</td>\n",
       "      <td>2</td>\n",
       "    </tr>\n",
       "    <tr>\n",
       "      <th>top</th>\n",
       "      <td>White</td>\n",
       "      <td>Present</td>\n",
       "      <td>Aluminium</td>\n",
       "      <td>Mixed</td>\n",
       "    </tr>\n",
       "    <tr>\n",
       "      <th>freq</th>\n",
       "      <td>65900</td>\n",
       "      <td>62160</td>\n",
       "      <td>106045</td>\n",
       "      <td>89685</td>\n",
       "    </tr>\n",
       "  </tbody>\n",
       "</table>\n",
       "</div>"
      ],
      "text/plain": [
       "          Type Sulphites     Barrel  Grapes\n",
       "count   129881    129881     129825  129873\n",
       "unique       2         4          2       2\n",
       "top      White   Present  Aluminium   Mixed\n",
       "freq     65900     62160     106045   89685"
      ]
     },
     "execution_count": 10,
     "metadata": {},
     "output_type": "execute_result"
    }
   ],
   "source": [
    "# Get descriptive statistics for the categorical data\n",
    "wm.describe(include = ['O'])"
   ]
  },
  {
   "cell_type": "markdown",
   "id": "09f46e2a",
   "metadata": {},
   "source": [
    "<b><font size=\"3\">Frequency of each level in categorical variables</font><a class=\"anchor\"><a id='toc'></a></b>"
   ]
  },
  {
   "cell_type": "code",
   "execution_count": 11,
   "id": "d2eefed3",
   "metadata": {},
   "outputs": [
    {
     "data": {
      "text/plain": [
       "White    65900\n",
       "Red      63981\n",
       "Name: Type, dtype: int64"
      ]
     },
     "execution_count": 11,
     "metadata": {},
     "output_type": "execute_result"
    }
   ],
   "source": [
    "# Check the frequency of each level in categorical variable Type\n",
    "wm['Type'].value_counts()"
   ]
  },
  {
   "cell_type": "code",
   "execution_count": 12,
   "id": "395e1a0b",
   "metadata": {},
   "outputs": [
    {
     "data": {
      "text/plain": [
       "Aluminium    106045\n",
       "Wooden        23780\n",
       "Name: Barrel, dtype: int64"
      ]
     },
     "execution_count": 12,
     "metadata": {},
     "output_type": "execute_result"
    }
   ],
   "source": [
    "# Check the frequency of each level in categorical variable Barrel\n",
    "wm['Barrel'].value_counts()"
   ]
  },
  {
   "cell_type": "code",
   "execution_count": 13,
   "id": "022b3a39",
   "metadata": {},
   "outputs": [
    {
     "data": {
      "text/plain": [
       "Mixed     89685\n",
       "Single    40188\n",
       "Name: Grapes, dtype: int64"
      ]
     },
     "execution_count": 13,
     "metadata": {},
     "output_type": "execute_result"
    }
   ],
   "source": [
    "# Check the frequency of each level in categorical variable Grapes\n",
    "wm['Grapes'].value_counts()"
   ]
  },
  {
   "cell_type": "code",
   "execution_count": 14,
   "id": "dc0927cb",
   "metadata": {},
   "outputs": [
    {
     "data": {
      "text/plain": [
       "Present        62160\n",
       "Not Present    58305\n",
       "Very Few        9412\n",
       "0                  4\n",
       "Name: Sulphites, dtype: int64"
      ]
     },
     "execution_count": 14,
     "metadata": {},
     "output_type": "execute_result"
    }
   ],
   "source": [
    "# Check the frequency of each level in categorical variable Sulphites\n",
    "wm['Sulphites'].value_counts()"
   ]
  },
  {
   "cell_type": "markdown",
   "id": "4a68bff9",
   "metadata": {},
   "source": [
    "In Sulphites there are the values Not Present and 0 which should be the same. In a further step they will get joined together."
   ]
  },
  {
   "cell_type": "markdown",
   "id": "498fb463",
   "metadata": {},
   "source": [
    "<b><font size=\"3\">Mean value of satisfaction per country by type of wine</font><a class=\"anchor\"><a id='toc'></a></b>"
   ]
  },
  {
   "cell_type": "code",
   "execution_count": 15,
   "id": "7db6cffe",
   "metadata": {},
   "outputs": [
    {
     "data": {
      "text/plain": [
       "Type\n",
       "Red      7.351307\n",
       "White    7.430228\n",
       "Name: Satisfaction_France, dtype: float64"
      ]
     },
     "execution_count": 15,
     "metadata": {},
     "output_type": "execute_result"
    }
   ],
   "source": [
    "# Mean value of satisfaction in France by type of wine \n",
    "wm.groupby('Type')['Satisfaction_France'].mean()"
   ]
  },
  {
   "cell_type": "code",
   "execution_count": 16,
   "id": "4cd225ca",
   "metadata": {},
   "outputs": [
    {
     "data": {
      "text/plain": [
       "Type\n",
       "Red      7.376346\n",
       "White    7.445675\n",
       "Name: Satisfaction_Spain, dtype: float64"
      ]
     },
     "execution_count": 16,
     "metadata": {},
     "output_type": "execute_result"
    }
   ],
   "source": [
    "# Mean value of satisfaction in Spain by type of wine \n",
    "wm.groupby('Type')['Satisfaction_Spain'].mean()"
   ]
  },
  {
   "cell_type": "code",
   "execution_count": 17,
   "id": "2d987ae6",
   "metadata": {},
   "outputs": [
    {
     "data": {
      "text/plain": [
       "Type\n",
       "Red      6.580297\n",
       "White    6.826343\n",
       "Name: Satisfaction_Portugal, dtype: float64"
      ]
     },
     "execution_count": 17,
     "metadata": {},
     "output_type": "execute_result"
    }
   ],
   "source": [
    "# Mean value of satisfaction in Portugal by type of wine \n",
    "wm.groupby('Type')['Satisfaction_Portugal'].mean()"
   ]
  },
  {
   "cell_type": "markdown",
   "id": "d7fb7616",
   "metadata": {},
   "source": [
    "The satisfaction level has a scale from 0 to 10. In general, white wine has a better satisfaction level in all countries than red wine. While France and Spain are similar in their satisfaction level (around 7.35 for red wine and 7.44 for white wine), the satisfaction level of Portugal is lower (around 6.6 for red wine and 6.8 for white wine)."
   ]
  },
  {
   "cell_type": "markdown",
   "id": "ea6eeb2d",
   "metadata": {},
   "source": [
    "<b><font size=\"3\">Visual Exploration</font><a class=\"anchor\"><a id='toc'></a></b>"
   ]
  },
  {
   "cell_type": "code",
   "execution_count": 18,
   "id": "cef6b920",
   "metadata": {},
   "outputs": [
    {
     "data": {
      "text/plain": [
       "<AxesSubplot:xlabel='count', ylabel='Alcohol'>"
      ]
     },
     "execution_count": 18,
     "metadata": {},
     "output_type": "execute_result"
    },
    {
     "data": {
      "image/png": "[encoded data removed]",
      "text/plain": [
       "<Figure size 432x288 with 1 Axes>"
      ]
     },
     "metadata": {
      "needs_background": "light"
     },
     "output_type": "display_data"
    }
   ],
   "source": [
    "sns.countplot(y = 'Alcohol', hue = 'Type', data = wm,\n",
    "             order = [1, 2, 3, 4, 5])"
   ]
  }
 ],
 "metadata": {
  "kernelspec": {
   "display_name": "Python 3",
   "language": "python",
   "name": "python3"
  },
  "language_info": {
   "codemirror_mode": {
    "name": "ipython",
    "version": 3
   },
   "file_extension": ".py",
   "mimetype": "text/x-python",
   "name": "python",
   "nbconvert_exporter": "python",
   "pygments_lexer": "ipython3",
   "version": "3.8.8"
  }
 },
 "nbformat": 4,
 "nbformat_minor": 5
}
