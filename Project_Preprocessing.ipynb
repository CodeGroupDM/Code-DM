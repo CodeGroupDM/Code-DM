{
 "cells": [
  {
   "cell_type": "code",
   "execution_count": 1,
   "metadata": {},
   "outputs": [],
   "source": [
    "import matplotlib.pyplot as plt\n",
    "import pandas as pd\n",
    "import seaborn as sns\n",
    "import numpy as np\n",
    "import warnings\n",
    "warnings.simplefilter(\"ignore\")\n",
    "from sklearn.cluster import KMeans\n",
    "from scipy.cluster.hierarchy import dendrogram, linkage\n",
    "from sklearn.preprocessing import MinMaxScaler"
   ]
  },
  {
   "cell_type": "code",
   "execution_count": 3,
   "metadata": {},
   "outputs": [
    {
     "data": {
      "text/html": [
       "<div>\n",
       "<style scoped>\n",
       "    .dataframe tbody tr th:only-of-type {\n",
       "        vertical-align: middle;\n",
       "    }\n",
       "\n",
       "    .dataframe tbody tr th {\n",
       "        vertical-align: top;\n",
       "    }\n",
       "\n",
       "    .dataframe thead th {\n",
       "        text-align: right;\n",
       "    }\n",
       "</style>\n",
       "<table border=\"1\" class=\"dataframe\">\n",
       "  <thead>\n",
       "    <tr style=\"text-align: right;\">\n",
       "      <th></th>\n",
       "      <th>WineID</th>\n",
       "      <th>Aging_Time</th>\n",
       "      <th>Litters_Barrel</th>\n",
       "      <th>Type</th>\n",
       "      <th>Magnesium</th>\n",
       "      <th>Residual_Sugar</th>\n",
       "      <th>Sulphites</th>\n",
       "      <th>Barrel</th>\n",
       "      <th>Grapes</th>\n",
       "      <th>Acidity</th>\n",
       "      <th>...</th>\n",
       "      <th>Red_Fruit</th>\n",
       "      <th>Citric</th>\n",
       "      <th>Density</th>\n",
       "      <th>Color_Intensity</th>\n",
       "      <th>Cloudiness</th>\n",
       "      <th>Alcohol</th>\n",
       "      <th>Astringency</th>\n",
       "      <th>Satisfaction_France</th>\n",
       "      <th>Satisfaction_Spain</th>\n",
       "      <th>Satisfaction_Portugal</th>\n",
       "    </tr>\n",
       "  </thead>\n",
       "  <tbody>\n",
       "    <tr>\n",
       "      <th>0</th>\n",
       "      <td>1</td>\n",
       "      <td>65</td>\n",
       "      <td>265</td>\n",
       "      <td>White</td>\n",
       "      <td>0</td>\n",
       "      <td>0.0</td>\n",
       "      <td>Not Present</td>\n",
       "      <td>Aluminium</td>\n",
       "      <td>Single</td>\n",
       "      <td>0</td>\n",
       "      <td>...</td>\n",
       "      <td>2</td>\n",
       "      <td>4</td>\n",
       "      <td>2</td>\n",
       "      <td>3</td>\n",
       "      <td>3</td>\n",
       "      <td>0</td>\n",
       "      <td>0</td>\n",
       "      <td>6</td>\n",
       "      <td>6</td>\n",
       "      <td>4</td>\n",
       "    </tr>\n",
       "    <tr>\n",
       "      <th>1</th>\n",
       "      <td>2</td>\n",
       "      <td>47</td>\n",
       "      <td>2464</td>\n",
       "      <td>Red</td>\n",
       "      <td>310</td>\n",
       "      <td>305.0</td>\n",
       "      <td>Present</td>\n",
       "      <td>Aluminium</td>\n",
       "      <td>Single</td>\n",
       "      <td>4</td>\n",
       "      <td>...</td>\n",
       "      <td>0</td>\n",
       "      <td>2</td>\n",
       "      <td>2</td>\n",
       "      <td>3</td>\n",
       "      <td>4</td>\n",
       "      <td>0</td>\n",
       "      <td>0</td>\n",
       "      <td>8</td>\n",
       "      <td>6</td>\n",
       "      <td>4</td>\n",
       "    </tr>\n",
       "    <tr>\n",
       "      <th>2</th>\n",
       "      <td>3</td>\n",
       "      <td>15</td>\n",
       "      <td>2138</td>\n",
       "      <td>White</td>\n",
       "      <td>0</td>\n",
       "      <td>0.0</td>\n",
       "      <td>Not Present</td>\n",
       "      <td>Aluminium</td>\n",
       "      <td>Single</td>\n",
       "      <td>3</td>\n",
       "      <td>...</td>\n",
       "      <td>2</td>\n",
       "      <td>0</td>\n",
       "      <td>2</td>\n",
       "      <td>2</td>\n",
       "      <td>3</td>\n",
       "      <td>0</td>\n",
       "      <td>0</td>\n",
       "      <td>8</td>\n",
       "      <td>8</td>\n",
       "      <td>4</td>\n",
       "    </tr>\n",
       "    <tr>\n",
       "      <th>3</th>\n",
       "      <td>4</td>\n",
       "      <td>60</td>\n",
       "      <td>623</td>\n",
       "      <td>White</td>\n",
       "      <td>0</td>\n",
       "      <td>0.0</td>\n",
       "      <td>Not Present</td>\n",
       "      <td>Aluminium</td>\n",
       "      <td>Single</td>\n",
       "      <td>0</td>\n",
       "      <td>...</td>\n",
       "      <td>3</td>\n",
       "      <td>4</td>\n",
       "      <td>3</td>\n",
       "      <td>1</td>\n",
       "      <td>1</td>\n",
       "      <td>0</td>\n",
       "      <td>0</td>\n",
       "      <td>2</td>\n",
       "      <td>2</td>\n",
       "      <td>6</td>\n",
       "    </tr>\n",
       "    <tr>\n",
       "      <th>4</th>\n",
       "      <td>5</td>\n",
       "      <td>70</td>\n",
       "      <td>354</td>\n",
       "      <td>White</td>\n",
       "      <td>0</td>\n",
       "      <td>0.0</td>\n",
       "      <td>Not Present</td>\n",
       "      <td>Aluminium</td>\n",
       "      <td>Single</td>\n",
       "      <td>0</td>\n",
       "      <td>...</td>\n",
       "      <td>4</td>\n",
       "      <td>3</td>\n",
       "      <td>4</td>\n",
       "      <td>2</td>\n",
       "      <td>2</td>\n",
       "      <td>0</td>\n",
       "      <td>0</td>\n",
       "      <td>4</td>\n",
       "      <td>4</td>\n",
       "      <td>10</td>\n",
       "    </tr>\n",
       "    <tr>\n",
       "      <th>5</th>\n",
       "      <td>6</td>\n",
       "      <td>30</td>\n",
       "      <td>1894</td>\n",
       "      <td>Red</td>\n",
       "      <td>0</td>\n",
       "      <td>0.0</td>\n",
       "      <td>Not Present</td>\n",
       "      <td>Aluminium</td>\n",
       "      <td>Single</td>\n",
       "      <td>4</td>\n",
       "      <td>...</td>\n",
       "      <td>2</td>\n",
       "      <td>0</td>\n",
       "      <td>2</td>\n",
       "      <td>2</td>\n",
       "      <td>5</td>\n",
       "      <td>0</td>\n",
       "      <td>0</td>\n",
       "      <td>10</td>\n",
       "      <td>8</td>\n",
       "      <td>4</td>\n",
       "    </tr>\n",
       "    <tr>\n",
       "      <th>6</th>\n",
       "      <td>7</td>\n",
       "      <td>66</td>\n",
       "      <td>227</td>\n",
       "      <td>White</td>\n",
       "      <td>17</td>\n",
       "      <td>15.0</td>\n",
       "      <td>Not Present</td>\n",
       "      <td>Aluminium</td>\n",
       "      <td>Single</td>\n",
       "      <td>0</td>\n",
       "      <td>...</td>\n",
       "      <td>2</td>\n",
       "      <td>5</td>\n",
       "      <td>5</td>\n",
       "      <td>5</td>\n",
       "      <td>5</td>\n",
       "      <td>0</td>\n",
       "      <td>0</td>\n",
       "      <td>10</td>\n",
       "      <td>10</td>\n",
       "      <td>6</td>\n",
       "    </tr>\n",
       "    <tr>\n",
       "      <th>7</th>\n",
       "      <td>8</td>\n",
       "      <td>10</td>\n",
       "      <td>1812</td>\n",
       "      <td>Red</td>\n",
       "      <td>0</td>\n",
       "      <td>0.0</td>\n",
       "      <td>Not Present</td>\n",
       "      <td>Aluminium</td>\n",
       "      <td>Single</td>\n",
       "      <td>3</td>\n",
       "      <td>...</td>\n",
       "      <td>2</td>\n",
       "      <td>0</td>\n",
       "      <td>2</td>\n",
       "      <td>2</td>\n",
       "      <td>3</td>\n",
       "      <td>0</td>\n",
       "      <td>0</td>\n",
       "      <td>8</td>\n",
       "      <td>8</td>\n",
       "      <td>4</td>\n",
       "    </tr>\n",
       "    <tr>\n",
       "      <th>8</th>\n",
       "      <td>9</td>\n",
       "      <td>56</td>\n",
       "      <td>73</td>\n",
       "      <td>White</td>\n",
       "      <td>0</td>\n",
       "      <td>0.0</td>\n",
       "      <td>Present</td>\n",
       "      <td>Aluminium</td>\n",
       "      <td>Single</td>\n",
       "      <td>0</td>\n",
       "      <td>...</td>\n",
       "      <td>5</td>\n",
       "      <td>3</td>\n",
       "      <td>5</td>\n",
       "      <td>4</td>\n",
       "      <td>4</td>\n",
       "      <td>0</td>\n",
       "      <td>0</td>\n",
       "      <td>2</td>\n",
       "      <td>8</td>\n",
       "      <td>8</td>\n",
       "    </tr>\n",
       "    <tr>\n",
       "      <th>9</th>\n",
       "      <td>10</td>\n",
       "      <td>22</td>\n",
       "      <td>1556</td>\n",
       "      <td>Red</td>\n",
       "      <td>30</td>\n",
       "      <td>26.0</td>\n",
       "      <td>Not Present</td>\n",
       "      <td>Aluminium</td>\n",
       "      <td>Single</td>\n",
       "      <td>4</td>\n",
       "      <td>...</td>\n",
       "      <td>2</td>\n",
       "      <td>0</td>\n",
       "      <td>2</td>\n",
       "      <td>2</td>\n",
       "      <td>2</td>\n",
       "      <td>0</td>\n",
       "      <td>0</td>\n",
       "      <td>10</td>\n",
       "      <td>8</td>\n",
       "      <td>4</td>\n",
       "    </tr>\n",
       "  </tbody>\n",
       "</table>\n",
       "<p>10 rows × 23 columns</p>\n",
       "</div>"
      ],
      "text/plain": [
       "   WineID  Aging_Time  Litters_Barrel   Type  Magnesium  Residual_Sugar  \\\n",
       "0       1          65             265  White          0             0.0   \n",
       "1       2          47            2464    Red        310           305.0   \n",
       "2       3          15            2138  White          0             0.0   \n",
       "3       4          60             623  White          0             0.0   \n",
       "4       5          70             354  White          0             0.0   \n",
       "5       6          30            1894    Red          0             0.0   \n",
       "6       7          66             227  White         17            15.0   \n",
       "7       8          10            1812    Red          0             0.0   \n",
       "8       9          56              73  White          0             0.0   \n",
       "9      10          22            1556    Red         30            26.0   \n",
       "\n",
       "     Sulphites     Barrel  Grapes  Acidity  ...  Red_Fruit  Citric  Density  \\\n",
       "0  Not Present  Aluminium  Single        0  ...          2       4        2   \n",
       "1      Present  Aluminium  Single        4  ...          0       2        2   \n",
       "2  Not Present  Aluminium  Single        3  ...          2       0        2   \n",
       "3  Not Present  Aluminium  Single        0  ...          3       4        3   \n",
       "4  Not Present  Aluminium  Single        0  ...          4       3        4   \n",
       "5  Not Present  Aluminium  Single        4  ...          2       0        2   \n",
       "6  Not Present  Aluminium  Single        0  ...          2       5        5   \n",
       "7  Not Present  Aluminium  Single        3  ...          2       0        2   \n",
       "8      Present  Aluminium  Single        0  ...          5       3        5   \n",
       "9  Not Present  Aluminium  Single        4  ...          2       0        2   \n",
       "\n",
       "   Color_Intensity  Cloudiness  Alcohol  Astringency  Satisfaction_France  \\\n",
       "0                3           3        0            0                    6   \n",
       "1                3           4        0            0                    8   \n",
       "2                2           3        0            0                    8   \n",
       "3                1           1        0            0                    2   \n",
       "4                2           2        0            0                    4   \n",
       "5                2           5        0            0                   10   \n",
       "6                5           5        0            0                   10   \n",
       "7                2           3        0            0                    8   \n",
       "8                4           4        0            0                    2   \n",
       "9                2           2        0            0                   10   \n",
       "\n",
       "   Satisfaction_Spain  Satisfaction_Portugal  \n",
       "0                   6                      4  \n",
       "1                   6                      4  \n",
       "2                   8                      4  \n",
       "3                   2                      6  \n",
       "4                   4                     10  \n",
       "5                   8                      4  \n",
       "6                  10                      6  \n",
       "7                   8                      4  \n",
       "8                   8                      8  \n",
       "9                   8                      4  \n",
       "\n",
       "[10 rows x 23 columns]"
      ]
     },
     "execution_count": 3,
     "metadata": {},
     "output_type": "execute_result"
    }
   ],
   "source": [
    "wm = pd.read_csv(r'WineMatters.csv')\n",
    "wm.head(10)"
   ]
  },
  {
   "cell_type": "code",
   "execution_count": 4,
   "metadata": {},
   "outputs": [],
   "source": [
    "# Set WineID as an index\n",
    "wm.set_index('WineID', inplace = True)"
   ]
  },
  {
   "cell_type": "markdown",
   "metadata": {},
   "source": [
    "<b><font size=\"5\">Duplicates</font><a class=\"anchor\"><a id='toc'></a></b>"
   ]
  },
  {
   "cell_type": "code",
   "execution_count": 5,
   "metadata": {},
   "outputs": [
    {
     "data": {
      "text/html": [
       "<div>\n",
       "<style scoped>\n",
       "    .dataframe tbody tr th:only-of-type {\n",
       "        vertical-align: middle;\n",
       "    }\n",
       "\n",
       "    .dataframe tbody tr th {\n",
       "        vertical-align: top;\n",
       "    }\n",
       "\n",
       "    .dataframe thead th {\n",
       "        text-align: right;\n",
       "    }\n",
       "</style>\n",
       "<table border=\"1\" class=\"dataframe\">\n",
       "  <thead>\n",
       "    <tr style=\"text-align: right;\">\n",
       "      <th></th>\n",
       "      <th>Aging_Time</th>\n",
       "      <th>Litters_Barrel</th>\n",
       "      <th>Type</th>\n",
       "      <th>Magnesium</th>\n",
       "      <th>Residual_Sugar</th>\n",
       "      <th>Sulphites</th>\n",
       "      <th>Barrel</th>\n",
       "      <th>Grapes</th>\n",
       "      <th>Acidity</th>\n",
       "      <th>Floral</th>\n",
       "      <th>...</th>\n",
       "      <th>Red_Fruit</th>\n",
       "      <th>Citric</th>\n",
       "      <th>Density</th>\n",
       "      <th>Color_Intensity</th>\n",
       "      <th>Cloudiness</th>\n",
       "      <th>Alcohol</th>\n",
       "      <th>Astringency</th>\n",
       "      <th>Satisfaction_France</th>\n",
       "      <th>Satisfaction_Spain</th>\n",
       "      <th>Satisfaction_Portugal</th>\n",
       "    </tr>\n",
       "    <tr>\n",
       "      <th>WineID</th>\n",
       "      <th></th>\n",
       "      <th></th>\n",
       "      <th></th>\n",
       "      <th></th>\n",
       "      <th></th>\n",
       "      <th></th>\n",
       "      <th></th>\n",
       "      <th></th>\n",
       "      <th></th>\n",
       "      <th></th>\n",
       "      <th></th>\n",
       "      <th></th>\n",
       "      <th></th>\n",
       "      <th></th>\n",
       "      <th></th>\n",
       "      <th></th>\n",
       "      <th></th>\n",
       "      <th></th>\n",
       "      <th></th>\n",
       "      <th></th>\n",
       "      <th></th>\n",
       "    </tr>\n",
       "  </thead>\n",
       "  <tbody>\n",
       "    <tr>\n",
       "      <th>354</th>\n",
       "      <td>33</td>\n",
       "      <td>3384</td>\n",
       "      <td>White</td>\n",
       "      <td>0</td>\n",
       "      <td>0.0</td>\n",
       "      <td>Very Few</td>\n",
       "      <td>Aluminium</td>\n",
       "      <td>Single</td>\n",
       "      <td>5</td>\n",
       "      <td>5</td>\n",
       "      <td>...</td>\n",
       "      <td>1</td>\n",
       "      <td>0</td>\n",
       "      <td>1</td>\n",
       "      <td>1</td>\n",
       "      <td>3</td>\n",
       "      <td>0</td>\n",
       "      <td>4</td>\n",
       "      <td>8</td>\n",
       "      <td>8</td>\n",
       "      <td>2</td>\n",
       "    </tr>\n",
       "    <tr>\n",
       "      <th>354</th>\n",
       "      <td>33</td>\n",
       "      <td>3384</td>\n",
       "      <td>White</td>\n",
       "      <td>0</td>\n",
       "      <td>0.0</td>\n",
       "      <td>Very Few</td>\n",
       "      <td>Aluminium</td>\n",
       "      <td>Single</td>\n",
       "      <td>5</td>\n",
       "      <td>5</td>\n",
       "      <td>...</td>\n",
       "      <td>1</td>\n",
       "      <td>0</td>\n",
       "      <td>1</td>\n",
       "      <td>1</td>\n",
       "      <td>3</td>\n",
       "      <td>0</td>\n",
       "      <td>4</td>\n",
       "      <td>8</td>\n",
       "      <td>8</td>\n",
       "      <td>2</td>\n",
       "    </tr>\n",
       "  </tbody>\n",
       "</table>\n",
       "<p>2 rows × 22 columns</p>\n",
       "</div>"
      ],
      "text/plain": [
       "        Aging_Time  Litters_Barrel   Type  Magnesium  Residual_Sugar  \\\n",
       "WineID                                                                 \n",
       "354             33            3384  White          0             0.0   \n",
       "354             33            3384  White          0             0.0   \n",
       "\n",
       "       Sulphites     Barrel  Grapes  Acidity  Floral  ...  Red_Fruit  Citric  \\\n",
       "WineID                                                ...                      \n",
       "354     Very Few  Aluminium  Single        5       5  ...          1       0   \n",
       "354     Very Few  Aluminium  Single        5       5  ...          1       0   \n",
       "\n",
       "        Density  Color_Intensity  Cloudiness  Alcohol  Astringency  \\\n",
       "WineID                                                               \n",
       "354           1                1           3        0            4   \n",
       "354           1                1           3        0            4   \n",
       "\n",
       "        Satisfaction_France  Satisfaction_Spain  Satisfaction_Portugal  \n",
       "WineID                                                                  \n",
       "354                       8                   8                      2  \n",
       "354                       8                   8                      2  \n",
       "\n",
       "[2 rows x 22 columns]"
      ]
     },
     "execution_count": 5,
     "metadata": {},
     "output_type": "execute_result"
    }
   ],
   "source": [
    "# Check if there are duplicate rows\n",
    "wm[wm.duplicated(keep=False)]"
   ]
  },
  {
   "cell_type": "markdown",
   "metadata": {},
   "source": [
    "There are two rows that are duplicated."
   ]
  },
  {
   "cell_type": "code",
   "execution_count": 6,
   "metadata": {},
   "outputs": [
    {
     "data": {
      "text/html": [
       "<div>\n",
       "<style scoped>\n",
       "    .dataframe tbody tr th:only-of-type {\n",
       "        vertical-align: middle;\n",
       "    }\n",
       "\n",
       "    .dataframe tbody tr th {\n",
       "        vertical-align: top;\n",
       "    }\n",
       "\n",
       "    .dataframe thead th {\n",
       "        text-align: right;\n",
       "    }\n",
       "</style>\n",
       "<table border=\"1\" class=\"dataframe\">\n",
       "  <thead>\n",
       "    <tr style=\"text-align: right;\">\n",
       "      <th></th>\n",
       "      <th>Aging_Time</th>\n",
       "      <th>Litters_Barrel</th>\n",
       "      <th>Type</th>\n",
       "      <th>Magnesium</th>\n",
       "      <th>Residual_Sugar</th>\n",
       "      <th>Sulphites</th>\n",
       "      <th>Barrel</th>\n",
       "      <th>Grapes</th>\n",
       "      <th>Acidity</th>\n",
       "      <th>Floral</th>\n",
       "      <th>...</th>\n",
       "      <th>Red_Fruit</th>\n",
       "      <th>Citric</th>\n",
       "      <th>Density</th>\n",
       "      <th>Color_Intensity</th>\n",
       "      <th>Cloudiness</th>\n",
       "      <th>Alcohol</th>\n",
       "      <th>Astringency</th>\n",
       "      <th>Satisfaction_France</th>\n",
       "      <th>Satisfaction_Spain</th>\n",
       "      <th>Satisfaction_Portugal</th>\n",
       "    </tr>\n",
       "    <tr>\n",
       "      <th>WineID</th>\n",
       "      <th></th>\n",
       "      <th></th>\n",
       "      <th></th>\n",
       "      <th></th>\n",
       "      <th></th>\n",
       "      <th></th>\n",
       "      <th></th>\n",
       "      <th></th>\n",
       "      <th></th>\n",
       "      <th></th>\n",
       "      <th></th>\n",
       "      <th></th>\n",
       "      <th></th>\n",
       "      <th></th>\n",
       "      <th></th>\n",
       "      <th></th>\n",
       "      <th></th>\n",
       "      <th></th>\n",
       "      <th></th>\n",
       "      <th></th>\n",
       "      <th></th>\n",
       "    </tr>\n",
       "  </thead>\n",
       "  <tbody>\n",
       "  </tbody>\n",
       "</table>\n",
       "<p>0 rows × 22 columns</p>\n",
       "</div>"
      ],
      "text/plain": [
       "Empty DataFrame\n",
       "Columns: [Aging_Time, Litters_Barrel, Type, Magnesium, Residual_Sugar, Sulphites, Barrel, Grapes, Acidity, Floral, Wood, Sweetness, Red_Fruit, Citric, Density, Color_Intensity, Cloudiness, Alcohol, Astringency, Satisfaction_France, Satisfaction_Spain, Satisfaction_Portugal]\n",
       "Index: []\n",
       "\n",
       "[0 rows x 22 columns]"
      ]
     },
     "execution_count": 6,
     "metadata": {},
     "output_type": "execute_result"
    }
   ],
   "source": [
    "# Drop dulicate rows and check again\n",
    "wm.drop_duplicates(inplace = True)\n",
    "wm[wm.duplicated(keep=False)]"
   ]
  },
  {
   "cell_type": "markdown",
   "metadata": {},
   "source": [
    "Now there are no more duplicated rows."
   ]
  },
  {
   "cell_type": "markdown",
   "metadata": {},
   "source": [
    "<b><font size=\"5\">Coherence</font><a class=\"anchor\"><a id='toc'></a></b>"
   ]
  },
  {
   "cell_type": "code",
   "execution_count": 7,
   "metadata": {},
   "outputs": [
    {
     "data": {
      "text/plain": [
       "6"
      ]
     },
     "execution_count": 7,
     "metadata": {},
     "output_type": "execute_result"
    }
   ],
   "source": [
    "# Check variable Cloudiness\n",
    "wm['Cloudiness'].max()"
   ]
  },
  {
   "cell_type": "code",
   "execution_count": 8,
   "metadata": {},
   "outputs": [
    {
     "data": {
      "text/plain": [
       "5"
      ]
     },
     "execution_count": 8,
     "metadata": {},
     "output_type": "execute_result"
    }
   ],
   "source": [
    "# Redefine values that are higher than 5 to 5\n",
    "wm.loc[wm['Cloudiness']>5,'Cloudiness']=5\n",
    "wm['Cloudiness'].max()"
   ]
  },
  {
   "cell_type": "code",
   "execution_count": 9,
   "metadata": {},
   "outputs": [],
   "source": [
    "# For safety reasons we did it for all variables\n",
    "wm.loc[wm['Acidity']>5,'Acidity']=5\n",
    "wm.loc[wm['Floral']>5,'Floral']=5\n",
    "wm.loc[wm['Wood']>5,'Wood']=5\n",
    "wm.loc[wm['Sweetness']>5,'Sweetness']=5\n",
    "wm.loc[wm['Red_Fruit']>5,'Red_Fruit']=5\n",
    "wm.loc[wm['Citric']>5,'Citric']=5\n",
    "wm.loc[wm['Density']>5,'Density']=5\n",
    "wm.loc[wm['Color_Intensity']>5,'Color_Intensity']=5\n",
    "wm.loc[wm['Cloudiness']>5,'Cloudiness']=5\n",
    "wm.loc[wm['Alcohol']>5,'Alcohol']=5\n",
    "wm.loc[wm['Astringency']>5,'Astringency']=5"
   ]
  },
  {
   "cell_type": "code",
   "execution_count": 10,
   "metadata": {},
   "outputs": [],
   "source": [
    "wm.loc[wm['Satisfaction_France']>10,'Satisfaction_France']=10\n",
    "wm.loc[wm['Satisfaction_Spain']>10,'Satisfaction_Spain']=10\n",
    "wm.loc[wm['Satisfaction_Portugal']>10,'Satisfaction_Portugal']=10"
   ]
  },
  {
   "cell_type": "code",
   "execution_count": 11,
   "metadata": {},
   "outputs": [
    {
     "data": {
      "text/plain": [
       "8     48240\n",
       "10    35748\n",
       "6     24485\n",
       "4     13432\n",
       "2      7975\n",
       "Name: Satisfaction_France, dtype: int64"
      ]
     },
     "execution_count": 11,
     "metadata": {},
     "output_type": "execute_result"
    }
   ],
   "source": [
    "# Check the frequency of each level in variables Satisfaction_France, Satisfaction_Spain and Satisfaction_Portugal\n",
    "wm['Satisfaction_France'].value_counts()"
   ]
  },
  {
   "cell_type": "code",
   "execution_count": 12,
   "metadata": {},
   "outputs": [
    {
     "data": {
      "text/plain": [
       "8     48795\n",
       "10    35916\n",
       "6     23984\n",
       "4     13412\n",
       "2      7768\n",
       "0         5\n",
       "Name: Satisfaction_Spain, dtype: int64"
      ]
     },
     "execution_count": 12,
     "metadata": {},
     "output_type": "execute_result"
    }
   ],
   "source": [
    "wm['Satisfaction_Spain'].value_counts()"
   ]
  },
  {
   "cell_type": "code",
   "execution_count": 13,
   "metadata": {},
   "outputs": [
    {
     "data": {
      "text/plain": [
       "8     35181\n",
       "6     30780\n",
       "10    29973\n",
       "4     18573\n",
       "2     15359\n",
       "0        14\n",
       "Name: Satisfaction_Portugal, dtype: int64"
      ]
     },
     "execution_count": 13,
     "metadata": {},
     "output_type": "execute_result"
    }
   ],
   "source": [
    "wm['Satisfaction_Portugal'].value_counts()"
   ]
  },
  {
   "cell_type": "markdown",
   "metadata": {},
   "source": [
    "As we can see all numbers are even. Therefore for easier data handling we could change the scale to 0-5 instead of 0-10."
   ]
  },
  {
   "cell_type": "code",
   "execution_count": 14,
   "metadata": {},
   "outputs": [],
   "source": [
    "wm['Satisfaction_France'] = wm['Satisfaction_France'].replace(2,1)\n",
    "wm['Satisfaction_France'] = wm['Satisfaction_France'].replace(4,2)\n",
    "wm['Satisfaction_France'] = wm['Satisfaction_France'].replace(6,3)\n",
    "wm['Satisfaction_France'] = wm['Satisfaction_France'].replace(8,4)\n",
    "wm['Satisfaction_France'] = wm['Satisfaction_France'].replace(10,5)"
   ]
  },
  {
   "cell_type": "code",
   "execution_count": 15,
   "metadata": {},
   "outputs": [],
   "source": [
    "wm['Satisfaction_Spain'] = wm['Satisfaction_Spain'].replace(2,1)\n",
    "wm['Satisfaction_Spain'] = wm['Satisfaction_Spain'].replace(4,2)\n",
    "wm['Satisfaction_Spain'] = wm['Satisfaction_Spain'].replace(6,3)\n",
    "wm['Satisfaction_Spain'] = wm['Satisfaction_Spain'].replace(8,4)\n",
    "wm['Satisfaction_Spain'] = wm['Satisfaction_Spain'].replace(10,5)"
   ]
  },
  {
   "cell_type": "code",
   "execution_count": 16,
   "metadata": {},
   "outputs": [],
   "source": [
    "wm['Satisfaction_Portugal'] = wm['Satisfaction_Portugal'].replace(2,1)\n",
    "wm['Satisfaction_Portugal'] = wm['Satisfaction_Portugal'].replace(4,2)\n",
    "wm['Satisfaction_Portugal'] = wm['Satisfaction_Portugal'].replace(6,3)\n",
    "wm['Satisfaction_Portugal'] = wm['Satisfaction_Portugal'].replace(8,4)\n",
    "wm['Satisfaction_Portugal'] = wm['Satisfaction_Portugal'].replace(10,5)"
   ]
  },
  {
   "cell_type": "markdown",
   "metadata": {},
   "source": [
    "<b><font size=\"5\">Check Missing Values before Outliers</font><a class=\"anchor\"><a id='toc'></a></b>"
   ]
  },
  {
   "cell_type": "code",
   "execution_count": 17,
   "metadata": {},
   "outputs": [
    {
     "data": {
      "text/plain": [
       "Aging_Time                 0\n",
       "Litters_Barrel             0\n",
       "Type                       0\n",
       "Magnesium                  0\n",
       "Residual_Sugar           391\n",
       "Sulphites                  0\n",
       "Barrel                    56\n",
       "Grapes                     8\n",
       "Acidity                    0\n",
       "Floral                     0\n",
       "Wood                       0\n",
       "Sweetness                  0\n",
       "Red_Fruit                  0\n",
       "Citric                     0\n",
       "Density                    0\n",
       "Color_Intensity            0\n",
       "Cloudiness                 0\n",
       "Alcohol                    0\n",
       "Astringency                0\n",
       "Satisfaction_France        0\n",
       "Satisfaction_Spain         0\n",
       "Satisfaction_Portugal      0\n",
       "dtype: int64"
      ]
     },
     "execution_count": 17,
     "metadata": {},
     "output_type": "execute_result"
    }
   ],
   "source": [
    "# Check sum of missing value per variable\n",
    "wm.isna().sum()"
   ]
  },
  {
   "cell_type": "markdown",
   "metadata": {},
   "source": [
    "<b><font size=\"5\">Outliers</font><a class=\"anchor\"><a id='toc'></a></b>"
   ]
  },
  {
   "cell_type": "markdown",
   "metadata": {},
   "source": [
    "@ReportGroup: also check the notebook \"Outliers last\"\n",
    "\n",
    "For outliers, we only check floats and integers who aren't in a scale because in a scale (especially only until 10, the outcome is based on personal factors). Of course, categorical variables also can't be checked on outliers.\n",
    "\n",
    "So we are left with Aging_Time, Litters_Barrel, Magnesium and Residual_Sugar. For these we will gonna draw a boxplot."
   ]
  },
  {
   "cell_type": "code",
   "execution_count": 18,
   "metadata": {},
   "outputs": [
    {
     "data": {
      "text/plain": [
       "<AxesSubplot:xlabel='Residual_Sugar'>"
      ]
     },
     "execution_count": 18,
     "metadata": {},
     "output_type": "execute_result"
    },
    {
     "data": {
      "image/png": "[encoded data removed]",
      "text/plain": [
       "<Figure size 1440x720 with 4 Axes>"
      ]
     },
     "metadata": {
      "needs_background": "light"
     },
     "output_type": "display_data"
    }
   ],
   "source": [
    "# Plotting a 2 rows X 2 columns plot showing all boxplots\n",
    "fig, axes = plt.subplots(2, 2, figsize=(20, 10))\n",
    "\n",
    "# Headline for the 2 rows X 2 columns plot\n",
    "fig.suptitle('Are there any outliers?')\n",
    "\n",
    "# Defining all boxplots shown in the 6 rows X 3 columns plot\n",
    "sns.boxplot(ax = axes[0,0], x='Aging_Time', data = wm)\n",
    "sns.boxplot(ax=axes[0, 1], x='Litters_Barrel', data = wm)\n",
    "sns.boxplot(ax=axes[1, 0], x='Magnesium', data = wm)\n",
    "sns.boxplot(ax=axes[1, 1], x='Residual_Sugar', data = wm)"
   ]
  },
  {
   "cell_type": "markdown",
   "metadata": {},
   "source": [
    "As we can see there are only outliers in Litters_Barrel, Magnesium and Residual_Sugar for which we will treat the outliers.\n",
    "\n",
    "For a more detailed outlier treatment please check the notebook \"Outliers last\"."
   ]
  },
  {
   "cell_type": "code",
   "execution_count": 19,
   "metadata": {},
   "outputs": [
    {
     "data": {
      "text/plain": [
       "(129810, 22)"
      ]
     },
     "execution_count": 19,
     "metadata": {},
     "output_type": "execute_result"
    }
   ],
   "source": [
    "#Cleaning outliers Magnesium\n",
    "wm_after_Magnesium=wm[wm['Magnesium'] < 440]\n",
    "wm_after_Magnesium.shape"
   ]
  },
  {
   "cell_type": "code",
   "execution_count": 20,
   "metadata": {},
   "outputs": [
    {
     "data": {
      "text/plain": [
       "(129416, 22)"
      ]
     },
     "execution_count": 20,
     "metadata": {},
     "output_type": "execute_result"
    }
   ],
   "source": [
    "#Cleaning outliers Residual Sugar\n",
    "wm_after_ResidualSugar=  wm_after_Magnesium[wm_after_Magnesium['Residual_Sugar'] < 450]\n",
    "wm_after_ResidualSugar.shape"
   ]
  },
  {
   "cell_type": "code",
   "execution_count": 21,
   "metadata": {},
   "outputs": [
    {
     "data": {
      "text/plain": [
       "(129374, 22)"
      ]
     },
     "execution_count": 21,
     "metadata": {},
     "output_type": "execute_result"
    }
   ],
   "source": [
    "#Cleaning outliers Litters per Barrel\n",
    "wm_after_outliers =  wm_after_ResidualSugar[wm_after_ResidualSugar['Litters_Barrel'] < 6420]\n",
    "wm_after_outliers.shape"
   ]
  },
  {
   "cell_type": "code",
   "execution_count": 22,
   "metadata": {},
   "outputs": [],
   "source": [
    "# Assign wm_after_outliers to wm_cleaned\n",
    "wm_cleaned = wm_after_outliers"
   ]
  },
  {
   "cell_type": "code",
   "execution_count": 23,
   "metadata": {},
   "outputs": [
    {
     "data": {
      "text/plain": [
       "(129374, 22)"
      ]
     },
     "execution_count": 23,
     "metadata": {},
     "output_type": "execute_result"
    }
   ],
   "source": [
    "wm_cleaned.shape"
   ]
  },
  {
   "cell_type": "markdown",
   "metadata": {},
   "source": [
    "<b><font size=\"5\">Missing Values</font><a class=\"anchor\"><a id='toc'></a></b>"
   ]
  },
  {
   "cell_type": "markdown",
   "metadata": {},
   "source": [
    "Use median not mode"
   ]
  },
  {
   "cell_type": "code",
   "execution_count": 24,
   "metadata": {},
   "outputs": [
    {
     "data": {
      "text/plain": [
       "Aging_Time                0\n",
       "Litters_Barrel            0\n",
       "Type                      0\n",
       "Magnesium                 0\n",
       "Residual_Sugar            0\n",
       "Sulphites                 0\n",
       "Barrel                   56\n",
       "Grapes                    8\n",
       "Acidity                   0\n",
       "Floral                    0\n",
       "Wood                      0\n",
       "Sweetness                 0\n",
       "Red_Fruit                 0\n",
       "Citric                    0\n",
       "Density                   0\n",
       "Color_Intensity           0\n",
       "Cloudiness                0\n",
       "Alcohol                   0\n",
       "Astringency               0\n",
       "Satisfaction_France       0\n",
       "Satisfaction_Spain        0\n",
       "Satisfaction_Portugal     0\n",
       "dtype: int64"
      ]
     },
     "execution_count": 24,
     "metadata": {},
     "output_type": "execute_result"
    }
   ],
   "source": [
    "# Check sum of missing value per variable\n",
    "wm_cleaned.isna().sum()"
   ]
  },
  {
   "cell_type": "markdown",
   "metadata": {},
   "source": [
    "We have missing values for Barrel and Grapes.\n",
    "\n",
    "The missing values for the outliers were deleted when the outliers were deleted (for example there were 391 missing values in Sulphites)."
   ]
  },
  {
   "cell_type": "markdown",
   "metadata": {},
   "source": [
    "Barrel and Grapes are both categorical variables. Because the missing values in the categorical variables are less than 3% of all values we can drop them."
   ]
  },
  {
   "cell_type": "code",
   "execution_count": 25,
   "metadata": {},
   "outputs": [],
   "source": [
    "# Remove missing values from categorical variables\n",
    "wm_cleaned = wm_cleaned.dropna(axis = 0, how ='any')"
   ]
  },
  {
   "cell_type": "code",
   "execution_count": 26,
   "metadata": {
    "scrolled": true
   },
   "outputs": [
    {
     "data": {
      "text/plain": [
       "Aging_Time               0\n",
       "Litters_Barrel           0\n",
       "Type                     0\n",
       "Magnesium                0\n",
       "Residual_Sugar           0\n",
       "Sulphites                0\n",
       "Barrel                   0\n",
       "Grapes                   0\n",
       "Acidity                  0\n",
       "Floral                   0\n",
       "Wood                     0\n",
       "Sweetness                0\n",
       "Red_Fruit                0\n",
       "Citric                   0\n",
       "Density                  0\n",
       "Color_Intensity          0\n",
       "Cloudiness               0\n",
       "Alcohol                  0\n",
       "Astringency              0\n",
       "Satisfaction_France      0\n",
       "Satisfaction_Spain       0\n",
       "Satisfaction_Portugal    0\n",
       "dtype: int64"
      ]
     },
     "execution_count": 26,
     "metadata": {},
     "output_type": "execute_result"
    }
   ],
   "source": [
    "# Checking sum of missing value per variable after treatment of Barrel and Grapes\n",
    "wm_cleaned.isna().sum()"
   ]
  },
  {
   "cell_type": "code",
   "execution_count": 27,
   "metadata": {},
   "outputs": [
    {
     "data": {
      "text/plain": [
       "(129310, 22)"
      ]
     },
     "execution_count": 27,
     "metadata": {},
     "output_type": "execute_result"
    }
   ],
   "source": [
    "wm_cleaned.shape"
   ]
  },
  {
   "cell_type": "markdown",
   "metadata": {},
   "source": [
    "As we can see with cleaned shape the 64 rows (129374 - 129310 = 64) with missing values got dropped."
   ]
  },
  {
   "cell_type": "markdown",
   "metadata": {},
   "source": [
    "<b><font size=\"5\">Treating Categorical values (Dummies)</font><a class=\"anchor\"><a id='toc'></a></b>"
   ]
  },
  {
   "cell_type": "markdown",
   "metadata": {},
   "source": [
    "By checking the frequency of each level in categorical variable Sulphites we found out that there are the four variables:\n",
    "- Present        \n",
    "- Not Present    \n",
    "- Very Few       \n",
    "- 0\n",
    "\n",
    "For easier data handling, a new variable will be created and used instead. Sulphites will be converted into a binary variable where Sulphites Presence (Present and Very Few) is indicated by 1 or else 0 (Not Presen and 0)."
   ]
  },
  {
   "cell_type": "code",
   "execution_count": 28,
   "metadata": {},
   "outputs": [],
   "source": [
    "# Create new variable Sulphites-Presence\n",
    "wm_cleaned['Sulphites_Presence'] = np.where((wm_cleaned['Sulphites']=='Very Few')|\n",
    "                                    (wm_cleaned['Sulphites']=='Present'),1,0)\n",
    "\n",
    "# Drop old variable Sulphites\n",
    "wm_cleaned.drop(labels = ['Sulphites'], axis = 1, inplace = True)"
   ]
  },
  {
   "cell_type": "markdown",
   "metadata": {},
   "source": [
    "All the others categorical variables only have two variables, so we identify one of them to be the main one."
   ]
  },
  {
   "cell_type": "code",
   "execution_count": 29,
   "metadata": {},
   "outputs": [],
   "source": [
    "# Create new variable Type_White\n",
    "wm_cleaned['Type_White'] = np.where((wm_cleaned['Type']=='White'),1,0)\n",
    "\n",
    "# Drop old variable Type\n",
    "wm_cleaned.drop(labels = ['Type'], axis = 1, inplace = True)"
   ]
  },
  {
   "cell_type": "code",
   "execution_count": 30,
   "metadata": {},
   "outputs": [],
   "source": [
    "# Create new variable Barrel_Wooden\n",
    "wm_cleaned['Barrel_Wooden'] = np.where((wm_cleaned['Barrel']=='Wooden'),1,0)\n",
    "\n",
    "# Drop old variable Barrel\n",
    "wm_cleaned.drop(labels = ['Barrel'], axis = 1, inplace = True)"
   ]
  },
  {
   "cell_type": "code",
   "execution_count": 31,
   "metadata": {},
   "outputs": [],
   "source": [
    "# Create new variable Grapes_Single\n",
    "wm_cleaned['Grapes_Single'] = np.where((wm_cleaned['Grapes']=='Single'),1,0)\n",
    "\n",
    "# Drop old variable Grapes\n",
    "wm_cleaned.drop(labels = ['Grapes'], axis = 1, inplace = True)"
   ]
  },
  {
   "cell_type": "code",
   "execution_count": 32,
   "metadata": {},
   "outputs": [
    {
     "data": {
      "text/html": [
       "<div>\n",
       "<style scoped>\n",
       "    .dataframe tbody tr th:only-of-type {\n",
       "        vertical-align: middle;\n",
       "    }\n",
       "\n",
       "    .dataframe tbody tr th {\n",
       "        vertical-align: top;\n",
       "    }\n",
       "\n",
       "    .dataframe thead th {\n",
       "        text-align: right;\n",
       "    }\n",
       "</style>\n",
       "<table border=\"1\" class=\"dataframe\">\n",
       "  <thead>\n",
       "    <tr style=\"text-align: right;\">\n",
       "      <th></th>\n",
       "      <th>Aging_Time</th>\n",
       "      <th>Litters_Barrel</th>\n",
       "      <th>Magnesium</th>\n",
       "      <th>Residual_Sugar</th>\n",
       "      <th>Acidity</th>\n",
       "      <th>Floral</th>\n",
       "      <th>Wood</th>\n",
       "      <th>Sweetness</th>\n",
       "      <th>Red_Fruit</th>\n",
       "      <th>Citric</th>\n",
       "      <th>...</th>\n",
       "      <th>Cloudiness</th>\n",
       "      <th>Alcohol</th>\n",
       "      <th>Astringency</th>\n",
       "      <th>Satisfaction_France</th>\n",
       "      <th>Satisfaction_Spain</th>\n",
       "      <th>Satisfaction_Portugal</th>\n",
       "      <th>Sulphites_Presence</th>\n",
       "      <th>Type_White</th>\n",
       "      <th>Barrel_Wooden</th>\n",
       "      <th>Grapes_Single</th>\n",
       "    </tr>\n",
       "    <tr>\n",
       "      <th>WineID</th>\n",
       "      <th></th>\n",
       "      <th></th>\n",
       "      <th></th>\n",
       "      <th></th>\n",
       "      <th></th>\n",
       "      <th></th>\n",
       "      <th></th>\n",
       "      <th></th>\n",
       "      <th></th>\n",
       "      <th></th>\n",
       "      <th></th>\n",
       "      <th></th>\n",
       "      <th></th>\n",
       "      <th></th>\n",
       "      <th></th>\n",
       "      <th></th>\n",
       "      <th></th>\n",
       "      <th></th>\n",
       "      <th></th>\n",
       "      <th></th>\n",
       "      <th></th>\n",
       "    </tr>\n",
       "  </thead>\n",
       "  <tbody>\n",
       "    <tr>\n",
       "      <th>1</th>\n",
       "      <td>65</td>\n",
       "      <td>265</td>\n",
       "      <td>0</td>\n",
       "      <td>0.0</td>\n",
       "      <td>0</td>\n",
       "      <td>5</td>\n",
       "      <td>0</td>\n",
       "      <td>2</td>\n",
       "      <td>2</td>\n",
       "      <td>4</td>\n",
       "      <td>...</td>\n",
       "      <td>3</td>\n",
       "      <td>0</td>\n",
       "      <td>0</td>\n",
       "      <td>3</td>\n",
       "      <td>3</td>\n",
       "      <td>2</td>\n",
       "      <td>0</td>\n",
       "      <td>1</td>\n",
       "      <td>0</td>\n",
       "      <td>1</td>\n",
       "    </tr>\n",
       "    <tr>\n",
       "      <th>2</th>\n",
       "      <td>47</td>\n",
       "      <td>2464</td>\n",
       "      <td>310</td>\n",
       "      <td>305.0</td>\n",
       "      <td>4</td>\n",
       "      <td>2</td>\n",
       "      <td>0</td>\n",
       "      <td>3</td>\n",
       "      <td>0</td>\n",
       "      <td>2</td>\n",
       "      <td>...</td>\n",
       "      <td>4</td>\n",
       "      <td>0</td>\n",
       "      <td>0</td>\n",
       "      <td>4</td>\n",
       "      <td>3</td>\n",
       "      <td>2</td>\n",
       "      <td>1</td>\n",
       "      <td>0</td>\n",
       "      <td>0</td>\n",
       "      <td>1</td>\n",
       "    </tr>\n",
       "    <tr>\n",
       "      <th>3</th>\n",
       "      <td>15</td>\n",
       "      <td>2138</td>\n",
       "      <td>0</td>\n",
       "      <td>0.0</td>\n",
       "      <td>3</td>\n",
       "      <td>4</td>\n",
       "      <td>0</td>\n",
       "      <td>3</td>\n",
       "      <td>2</td>\n",
       "      <td>0</td>\n",
       "      <td>...</td>\n",
       "      <td>3</td>\n",
       "      <td>0</td>\n",
       "      <td>0</td>\n",
       "      <td>4</td>\n",
       "      <td>4</td>\n",
       "      <td>2</td>\n",
       "      <td>0</td>\n",
       "      <td>1</td>\n",
       "      <td>0</td>\n",
       "      <td>1</td>\n",
       "    </tr>\n",
       "    <tr>\n",
       "      <th>4</th>\n",
       "      <td>60</td>\n",
       "      <td>623</td>\n",
       "      <td>0</td>\n",
       "      <td>0.0</td>\n",
       "      <td>0</td>\n",
       "      <td>4</td>\n",
       "      <td>0</td>\n",
       "      <td>3</td>\n",
       "      <td>3</td>\n",
       "      <td>4</td>\n",
       "      <td>...</td>\n",
       "      <td>1</td>\n",
       "      <td>0</td>\n",
       "      <td>0</td>\n",
       "      <td>1</td>\n",
       "      <td>1</td>\n",
       "      <td>3</td>\n",
       "      <td>0</td>\n",
       "      <td>1</td>\n",
       "      <td>0</td>\n",
       "      <td>1</td>\n",
       "    </tr>\n",
       "    <tr>\n",
       "      <th>5</th>\n",
       "      <td>70</td>\n",
       "      <td>354</td>\n",
       "      <td>0</td>\n",
       "      <td>0.0</td>\n",
       "      <td>0</td>\n",
       "      <td>4</td>\n",
       "      <td>0</td>\n",
       "      <td>3</td>\n",
       "      <td>4</td>\n",
       "      <td>3</td>\n",
       "      <td>...</td>\n",
       "      <td>2</td>\n",
       "      <td>0</td>\n",
       "      <td>0</td>\n",
       "      <td>2</td>\n",
       "      <td>2</td>\n",
       "      <td>5</td>\n",
       "      <td>0</td>\n",
       "      <td>1</td>\n",
       "      <td>0</td>\n",
       "      <td>1</td>\n",
       "    </tr>\n",
       "  </tbody>\n",
       "</table>\n",
       "<p>5 rows × 22 columns</p>\n",
       "</div>"
      ],
      "text/plain": [
       "        Aging_Time  Litters_Barrel  Magnesium  Residual_Sugar  Acidity  \\\n",
       "WineID                                                                   \n",
       "1               65             265          0             0.0        0   \n",
       "2               47            2464        310           305.0        4   \n",
       "3               15            2138          0             0.0        3   \n",
       "4               60             623          0             0.0        0   \n",
       "5               70             354          0             0.0        0   \n",
       "\n",
       "        Floral  Wood  Sweetness  Red_Fruit  Citric  ...  Cloudiness  Alcohol  \\\n",
       "WineID                                              ...                        \n",
       "1            5     0          2          2       4  ...           3        0   \n",
       "2            2     0          3          0       2  ...           4        0   \n",
       "3            4     0          3          2       0  ...           3        0   \n",
       "4            4     0          3          3       4  ...           1        0   \n",
       "5            4     0          3          4       3  ...           2        0   \n",
       "\n",
       "        Astringency  Satisfaction_France  Satisfaction_Spain  \\\n",
       "WineID                                                         \n",
       "1                 0                    3                   3   \n",
       "2                 0                    4                   3   \n",
       "3                 0                    4                   4   \n",
       "4                 0                    1                   1   \n",
       "5                 0                    2                   2   \n",
       "\n",
       "        Satisfaction_Portugal  Sulphites_Presence  Type_White  Barrel_Wooden  \\\n",
       "WineID                                                                         \n",
       "1                           2                   0           1              0   \n",
       "2                           2                   1           0              0   \n",
       "3                           2                   0           1              0   \n",
       "4                           3                   0           1              0   \n",
       "5                           5                   0           1              0   \n",
       "\n",
       "        Grapes_Single  \n",
       "WineID                 \n",
       "1                   1  \n",
       "2                   1  \n",
       "3                   1  \n",
       "4                   1  \n",
       "5                   1  \n",
       "\n",
       "[5 rows x 22 columns]"
      ]
     },
     "execution_count": 32,
     "metadata": {},
     "output_type": "execute_result"
    }
   ],
   "source": [
    "wm_cleaned.head()"
   ]
  },
  {
   "cell_type": "markdown",
   "metadata": {},
   "source": [
    "<b><font size=\"5\">Scale</font><a class=\"anchor\"><a id='toc'></a></b>"
   ]
  },
  {
   "cell_type": "code",
   "execution_count": 33,
   "metadata": {},
   "outputs": [],
   "source": [
    "# Create a new dataset named finalDatathat will contain the columns from wm.\n",
    "finalData = wm_cleaned[['Aging_Time', 'Litters_Barrel', 'Magnesium', 'Residual_Sugar']]"
   ]
  },
  {
   "cell_type": "code",
   "execution_count": 34,
   "metadata": {},
   "outputs": [],
   "source": [
    "# Create an instance of MinMaxScaler() named minmax_scaler.\n",
    "minmax_scaler = MinMaxScaler()"
   ]
  },
  {
   "cell_type": "code",
   "execution_count": 35,
   "metadata": {},
   "outputs": [],
   "source": [
    "# Use the .fit()method of minmax_scaler to fit the scaler to finalData and assign the results to the object scale\n",
    "scale = minmax_scaler.fit(finalData)"
   ]
  },
  {
   "cell_type": "code",
   "execution_count": 36,
   "metadata": {},
   "outputs": [],
   "source": [
    "# Use the .transform() method of scale to apply MinMaxScaler to finalData and assign it to the object minmax_data.\n",
    "minmax_data = scale.transform(finalData)"
   ]
  },
  {
   "cell_type": "code",
   "execution_count": 37,
   "metadata": {},
   "outputs": [
    {
     "data": {
      "text/html": [
       "<div>\n",
       "<style scoped>\n",
       "    .dataframe tbody tr th:only-of-type {\n",
       "        vertical-align: middle;\n",
       "    }\n",
       "\n",
       "    .dataframe tbody tr th {\n",
       "        vertical-align: top;\n",
       "    }\n",
       "\n",
       "    .dataframe thead th {\n",
       "        text-align: right;\n",
       "    }\n",
       "</style>\n",
       "<table border=\"1\" class=\"dataframe\">\n",
       "  <thead>\n",
       "    <tr style=\"text-align: right;\">\n",
       "      <th></th>\n",
       "      <th>Aging_Time</th>\n",
       "      <th>Litters_Barrel</th>\n",
       "      <th>Magnesium</th>\n",
       "      <th>Residual_Sugar</th>\n",
       "    </tr>\n",
       "  </thead>\n",
       "  <tbody>\n",
       "    <tr>\n",
       "      <th>0</th>\n",
       "      <td>0.743590</td>\n",
       "      <td>0.034003</td>\n",
       "      <td>0.000000</td>\n",
       "      <td>0.000000</td>\n",
       "    </tr>\n",
       "    <tr>\n",
       "      <th>1</th>\n",
       "      <td>0.512821</td>\n",
       "      <td>0.381781</td>\n",
       "      <td>0.707763</td>\n",
       "      <td>0.693182</td>\n",
       "    </tr>\n",
       "    <tr>\n",
       "      <th>2</th>\n",
       "      <td>0.102564</td>\n",
       "      <td>0.330223</td>\n",
       "      <td>0.000000</td>\n",
       "      <td>0.000000</td>\n",
       "    </tr>\n",
       "    <tr>\n",
       "      <th>3</th>\n",
       "      <td>0.679487</td>\n",
       "      <td>0.090622</td>\n",
       "      <td>0.000000</td>\n",
       "      <td>0.000000</td>\n",
       "    </tr>\n",
       "    <tr>\n",
       "      <th>4</th>\n",
       "      <td>0.807692</td>\n",
       "      <td>0.048078</td>\n",
       "      <td>0.000000</td>\n",
       "      <td>0.000000</td>\n",
       "    </tr>\n",
       "  </tbody>\n",
       "</table>\n",
       "</div>"
      ],
      "text/plain": [
       "   Aging_Time  Litters_Barrel  Magnesium  Residual_Sugar\n",
       "0    0.743590        0.034003   0.000000        0.000000\n",
       "1    0.512821        0.381781   0.707763        0.693182\n",
       "2    0.102564        0.330223   0.000000        0.000000\n",
       "3    0.679487        0.090622   0.000000        0.000000\n",
       "4    0.807692        0.048078   0.000000        0.000000"
      ]
     },
     "execution_count": 37,
     "metadata": {},
     "output_type": "execute_result"
    }
   ],
   "source": [
    "# Create a new dataset named minmax_data that will contain the command : pd.DataFrame(minmax_data, columns = finalData.columns).\n",
    "\n",
    "minmax_data = pd.DataFrame(minmax_data, columns = finalData.columns)\n",
    "minmax_data.head()"
   ]
  },
  {
   "cell_type": "code",
   "execution_count": 38,
   "metadata": {},
   "outputs": [
    {
     "data": {
      "text/plain": [
       "WineID\n",
       "1           0.0\n",
       "2         305.0\n",
       "3           0.0\n",
       "4           0.0\n",
       "5           0.0\n",
       "          ...  \n",
       "129876      0.0\n",
       "129877    172.0\n",
       "129878    163.0\n",
       "129879    205.0\n",
       "129880    186.0\n",
       "Name: Residual_Sugar, Length: 129310, dtype: float64"
      ]
     },
     "execution_count": 38,
     "metadata": {},
     "output_type": "execute_result"
    }
   ],
   "source": [
    "# Drop old unscaled columns Aging_Time, Litters_Barrel, Magnesium and Residual_Sugar\n",
    "wm_cleaned.pop('Aging_Time')\n",
    "wm_cleaned.pop('Litters_Barrel')\n",
    "wm_cleaned.pop('Magnesium')\n",
    "wm_cleaned.pop('Residual_Sugar')"
   ]
  },
  {
   "cell_type": "code",
   "execution_count": 39,
   "metadata": {},
   "outputs": [],
   "source": [
    "# Change start index to 1 to join dataframes minmax_data and wm_cleaned\n",
    "minmax_data.index += 1 \n",
    "wm_cleaned = minmax_data.join(wm_cleaned)"
   ]
  },
  {
   "cell_type": "code",
   "execution_count": 40,
   "metadata": {},
   "outputs": [
    {
     "data": {
      "text/html": [
       "<div>\n",
       "<style scoped>\n",
       "    .dataframe tbody tr th:only-of-type {\n",
       "        vertical-align: middle;\n",
       "    }\n",
       "\n",
       "    .dataframe tbody tr th {\n",
       "        vertical-align: top;\n",
       "    }\n",
       "\n",
       "    .dataframe thead th {\n",
       "        text-align: right;\n",
       "    }\n",
       "</style>\n",
       "<table border=\"1\" class=\"dataframe\">\n",
       "  <thead>\n",
       "    <tr style=\"text-align: right;\">\n",
       "      <th></th>\n",
       "      <th>Aging_Time</th>\n",
       "      <th>Litters_Barrel</th>\n",
       "      <th>Magnesium</th>\n",
       "      <th>Residual_Sugar</th>\n",
       "      <th>Acidity</th>\n",
       "      <th>Floral</th>\n",
       "      <th>Wood</th>\n",
       "      <th>Sweetness</th>\n",
       "      <th>Red_Fruit</th>\n",
       "      <th>Citric</th>\n",
       "      <th>...</th>\n",
       "      <th>Cloudiness</th>\n",
       "      <th>Alcohol</th>\n",
       "      <th>Astringency</th>\n",
       "      <th>Satisfaction_France</th>\n",
       "      <th>Satisfaction_Spain</th>\n",
       "      <th>Satisfaction_Portugal</th>\n",
       "      <th>Sulphites_Presence</th>\n",
       "      <th>Type_White</th>\n",
       "      <th>Barrel_Wooden</th>\n",
       "      <th>Grapes_Single</th>\n",
       "    </tr>\n",
       "  </thead>\n",
       "  <tbody>\n",
       "    <tr>\n",
       "      <th>1</th>\n",
       "      <td>0.743590</td>\n",
       "      <td>0.034003</td>\n",
       "      <td>0.000000</td>\n",
       "      <td>0.000000</td>\n",
       "      <td>0.0</td>\n",
       "      <td>5.0</td>\n",
       "      <td>0.0</td>\n",
       "      <td>2.0</td>\n",
       "      <td>2.0</td>\n",
       "      <td>4.0</td>\n",
       "      <td>...</td>\n",
       "      <td>3.0</td>\n",
       "      <td>0.0</td>\n",
       "      <td>0.0</td>\n",
       "      <td>3.0</td>\n",
       "      <td>3.0</td>\n",
       "      <td>2.0</td>\n",
       "      <td>0.0</td>\n",
       "      <td>1.0</td>\n",
       "      <td>0.0</td>\n",
       "      <td>1.0</td>\n",
       "    </tr>\n",
       "    <tr>\n",
       "      <th>2</th>\n",
       "      <td>0.512821</td>\n",
       "      <td>0.381781</td>\n",
       "      <td>0.707763</td>\n",
       "      <td>0.693182</td>\n",
       "      <td>4.0</td>\n",
       "      <td>2.0</td>\n",
       "      <td>0.0</td>\n",
       "      <td>3.0</td>\n",
       "      <td>0.0</td>\n",
       "      <td>2.0</td>\n",
       "      <td>...</td>\n",
       "      <td>4.0</td>\n",
       "      <td>0.0</td>\n",
       "      <td>0.0</td>\n",
       "      <td>4.0</td>\n",
       "      <td>3.0</td>\n",
       "      <td>2.0</td>\n",
       "      <td>1.0</td>\n",
       "      <td>0.0</td>\n",
       "      <td>0.0</td>\n",
       "      <td>1.0</td>\n",
       "    </tr>\n",
       "    <tr>\n",
       "      <th>3</th>\n",
       "      <td>0.102564</td>\n",
       "      <td>0.330223</td>\n",
       "      <td>0.000000</td>\n",
       "      <td>0.000000</td>\n",
       "      <td>3.0</td>\n",
       "      <td>4.0</td>\n",
       "      <td>0.0</td>\n",
       "      <td>3.0</td>\n",
       "      <td>2.0</td>\n",
       "      <td>0.0</td>\n",
       "      <td>...</td>\n",
       "      <td>3.0</td>\n",
       "      <td>0.0</td>\n",
       "      <td>0.0</td>\n",
       "      <td>4.0</td>\n",
       "      <td>4.0</td>\n",
       "      <td>2.0</td>\n",
       "      <td>0.0</td>\n",
       "      <td>1.0</td>\n",
       "      <td>0.0</td>\n",
       "      <td>1.0</td>\n",
       "    </tr>\n",
       "    <tr>\n",
       "      <th>4</th>\n",
       "      <td>0.679487</td>\n",
       "      <td>0.090622</td>\n",
       "      <td>0.000000</td>\n",
       "      <td>0.000000</td>\n",
       "      <td>0.0</td>\n",
       "      <td>4.0</td>\n",
       "      <td>0.0</td>\n",
       "      <td>3.0</td>\n",
       "      <td>3.0</td>\n",
       "      <td>4.0</td>\n",
       "      <td>...</td>\n",
       "      <td>1.0</td>\n",
       "      <td>0.0</td>\n",
       "      <td>0.0</td>\n",
       "      <td>1.0</td>\n",
       "      <td>1.0</td>\n",
       "      <td>3.0</td>\n",
       "      <td>0.0</td>\n",
       "      <td>1.0</td>\n",
       "      <td>0.0</td>\n",
       "      <td>1.0</td>\n",
       "    </tr>\n",
       "    <tr>\n",
       "      <th>5</th>\n",
       "      <td>0.807692</td>\n",
       "      <td>0.048078</td>\n",
       "      <td>0.000000</td>\n",
       "      <td>0.000000</td>\n",
       "      <td>0.0</td>\n",
       "      <td>4.0</td>\n",
       "      <td>0.0</td>\n",
       "      <td>3.0</td>\n",
       "      <td>4.0</td>\n",
       "      <td>3.0</td>\n",
       "      <td>...</td>\n",
       "      <td>2.0</td>\n",
       "      <td>0.0</td>\n",
       "      <td>0.0</td>\n",
       "      <td>2.0</td>\n",
       "      <td>2.0</td>\n",
       "      <td>5.0</td>\n",
       "      <td>0.0</td>\n",
       "      <td>1.0</td>\n",
       "      <td>0.0</td>\n",
       "      <td>1.0</td>\n",
       "    </tr>\n",
       "  </tbody>\n",
       "</table>\n",
       "<p>5 rows × 22 columns</p>\n",
       "</div>"
      ],
      "text/plain": [
       "   Aging_Time  Litters_Barrel  Magnesium  Residual_Sugar  Acidity  Floral  \\\n",
       "1    0.743590        0.034003   0.000000        0.000000      0.0     5.0   \n",
       "2    0.512821        0.381781   0.707763        0.693182      4.0     2.0   \n",
       "3    0.102564        0.330223   0.000000        0.000000      3.0     4.0   \n",
       "4    0.679487        0.090622   0.000000        0.000000      0.0     4.0   \n",
       "5    0.807692        0.048078   0.000000        0.000000      0.0     4.0   \n",
       "\n",
       "   Wood  Sweetness  Red_Fruit  Citric  ...  Cloudiness  Alcohol  Astringency  \\\n",
       "1   0.0        2.0        2.0     4.0  ...         3.0      0.0          0.0   \n",
       "2   0.0        3.0        0.0     2.0  ...         4.0      0.0          0.0   \n",
       "3   0.0        3.0        2.0     0.0  ...         3.0      0.0          0.0   \n",
       "4   0.0        3.0        3.0     4.0  ...         1.0      0.0          0.0   \n",
       "5   0.0        3.0        4.0     3.0  ...         2.0      0.0          0.0   \n",
       "\n",
       "   Satisfaction_France  Satisfaction_Spain  Satisfaction_Portugal  \\\n",
       "1                  3.0                 3.0                    2.0   \n",
       "2                  4.0                 3.0                    2.0   \n",
       "3                  4.0                 4.0                    2.0   \n",
       "4                  1.0                 1.0                    3.0   \n",
       "5                  2.0                 2.0                    5.0   \n",
       "\n",
       "   Sulphites_Presence  Type_White  Barrel_Wooden  Grapes_Single  \n",
       "1                 0.0         1.0            0.0            1.0  \n",
       "2                 1.0         0.0            0.0            1.0  \n",
       "3                 0.0         1.0            0.0            1.0  \n",
       "4                 0.0         1.0            0.0            1.0  \n",
       "5                 0.0         1.0            0.0            1.0  \n",
       "\n",
       "[5 rows x 22 columns]"
      ]
     },
     "execution_count": 40,
     "metadata": {},
     "output_type": "execute_result"
    }
   ],
   "source": [
    "wm_cleaned.head()"
   ]
  },
  {
   "cell_type": "markdown",
   "metadata": {},
   "source": [
    "<b><font size=\"5\">Create new Variables</font><a class=\"anchor\"><a id='toc'></a></b>"
   ]
  },
  {
   "cell_type": "markdown",
   "metadata": {},
   "source": [
    "To see if customers overall like the wine, we gonna create a new variable Satisfaction_General. \n",
    "\n",
    "For that, we are going to calculate the average over the three countries.\n",
    "\n",
    "If it is higher than 5 (6-10), it will be declared as a good wine (indicate as 1).\n",
    "If it is equal or less than 5 (0-5), it will be declared as a bad wine (indicate as 0)."
   ]
  },
  {
   "cell_type": "code",
   "execution_count": 85,
   "metadata": {},
   "outputs": [
    {
     "data": {
      "text/html": [
       "<div>\n",
       "<style scoped>\n",
       "    .dataframe tbody tr th:only-of-type {\n",
       "        vertical-align: middle;\n",
       "    }\n",
       "\n",
       "    .dataframe tbody tr th {\n",
       "        vertical-align: top;\n",
       "    }\n",
       "\n",
       "    .dataframe thead th {\n",
       "        text-align: right;\n",
       "    }\n",
       "</style>\n",
       "<table border=\"1\" class=\"dataframe\">\n",
       "  <thead>\n",
       "    <tr style=\"text-align: right;\">\n",
       "      <th></th>\n",
       "      <th>Aging_Time</th>\n",
       "      <th>Litters_Barrel</th>\n",
       "      <th>Type</th>\n",
       "      <th>Magnesium</th>\n",
       "      <th>Residual_Sugar</th>\n",
       "      <th>Sulphites</th>\n",
       "      <th>Barrel</th>\n",
       "      <th>Grapes</th>\n",
       "      <th>Acidity</th>\n",
       "      <th>Floral</th>\n",
       "      <th>...</th>\n",
       "      <th>Citric</th>\n",
       "      <th>Density</th>\n",
       "      <th>Color_Intensity</th>\n",
       "      <th>Cloudiness</th>\n",
       "      <th>Alcohol</th>\n",
       "      <th>Astringency</th>\n",
       "      <th>Satisfaction_France</th>\n",
       "      <th>Satisfaction_Spain</th>\n",
       "      <th>Satisfaction_Portugal</th>\n",
       "      <th>Satisfaction_General</th>\n",
       "    </tr>\n",
       "    <tr>\n",
       "      <th>WineID</th>\n",
       "      <th></th>\n",
       "      <th></th>\n",
       "      <th></th>\n",
       "      <th></th>\n",
       "      <th></th>\n",
       "      <th></th>\n",
       "      <th></th>\n",
       "      <th></th>\n",
       "      <th></th>\n",
       "      <th></th>\n",
       "      <th></th>\n",
       "      <th></th>\n",
       "      <th></th>\n",
       "      <th></th>\n",
       "      <th></th>\n",
       "      <th></th>\n",
       "      <th></th>\n",
       "      <th></th>\n",
       "      <th></th>\n",
       "      <th></th>\n",
       "      <th></th>\n",
       "    </tr>\n",
       "  </thead>\n",
       "  <tbody>\n",
       "    <tr>\n",
       "      <th>1</th>\n",
       "      <td>65</td>\n",
       "      <td>265</td>\n",
       "      <td>White</td>\n",
       "      <td>0</td>\n",
       "      <td>0.0</td>\n",
       "      <td>Not Present</td>\n",
       "      <td>Aluminium</td>\n",
       "      <td>Single</td>\n",
       "      <td>0</td>\n",
       "      <td>5</td>\n",
       "      <td>...</td>\n",
       "      <td>4</td>\n",
       "      <td>2</td>\n",
       "      <td>3</td>\n",
       "      <td>3</td>\n",
       "      <td>0</td>\n",
       "      <td>0</td>\n",
       "      <td>3</td>\n",
       "      <td>3</td>\n",
       "      <td>2</td>\n",
       "      <td>1</td>\n",
       "    </tr>\n",
       "    <tr>\n",
       "      <th>2</th>\n",
       "      <td>47</td>\n",
       "      <td>2464</td>\n",
       "      <td>Red</td>\n",
       "      <td>310</td>\n",
       "      <td>305.0</td>\n",
       "      <td>Present</td>\n",
       "      <td>Aluminium</td>\n",
       "      <td>Single</td>\n",
       "      <td>4</td>\n",
       "      <td>2</td>\n",
       "      <td>...</td>\n",
       "      <td>2</td>\n",
       "      <td>2</td>\n",
       "      <td>3</td>\n",
       "      <td>4</td>\n",
       "      <td>0</td>\n",
       "      <td>0</td>\n",
       "      <td>4</td>\n",
       "      <td>3</td>\n",
       "      <td>2</td>\n",
       "      <td>1</td>\n",
       "    </tr>\n",
       "    <tr>\n",
       "      <th>3</th>\n",
       "      <td>15</td>\n",
       "      <td>2138</td>\n",
       "      <td>White</td>\n",
       "      <td>0</td>\n",
       "      <td>0.0</td>\n",
       "      <td>Not Present</td>\n",
       "      <td>Aluminium</td>\n",
       "      <td>Single</td>\n",
       "      <td>3</td>\n",
       "      <td>4</td>\n",
       "      <td>...</td>\n",
       "      <td>0</td>\n",
       "      <td>2</td>\n",
       "      <td>2</td>\n",
       "      <td>3</td>\n",
       "      <td>0</td>\n",
       "      <td>0</td>\n",
       "      <td>4</td>\n",
       "      <td>4</td>\n",
       "      <td>2</td>\n",
       "      <td>1</td>\n",
       "    </tr>\n",
       "    <tr>\n",
       "      <th>4</th>\n",
       "      <td>60</td>\n",
       "      <td>623</td>\n",
       "      <td>White</td>\n",
       "      <td>0</td>\n",
       "      <td>0.0</td>\n",
       "      <td>Not Present</td>\n",
       "      <td>Aluminium</td>\n",
       "      <td>Single</td>\n",
       "      <td>0</td>\n",
       "      <td>4</td>\n",
       "      <td>...</td>\n",
       "      <td>4</td>\n",
       "      <td>3</td>\n",
       "      <td>1</td>\n",
       "      <td>1</td>\n",
       "      <td>0</td>\n",
       "      <td>0</td>\n",
       "      <td>1</td>\n",
       "      <td>1</td>\n",
       "      <td>3</td>\n",
       "      <td>0</td>\n",
       "    </tr>\n",
       "    <tr>\n",
       "      <th>5</th>\n",
       "      <td>70</td>\n",
       "      <td>354</td>\n",
       "      <td>White</td>\n",
       "      <td>0</td>\n",
       "      <td>0.0</td>\n",
       "      <td>Not Present</td>\n",
       "      <td>Aluminium</td>\n",
       "      <td>Single</td>\n",
       "      <td>0</td>\n",
       "      <td>4</td>\n",
       "      <td>...</td>\n",
       "      <td>3</td>\n",
       "      <td>4</td>\n",
       "      <td>2</td>\n",
       "      <td>2</td>\n",
       "      <td>0</td>\n",
       "      <td>0</td>\n",
       "      <td>2</td>\n",
       "      <td>2</td>\n",
       "      <td>5</td>\n",
       "      <td>1</td>\n",
       "    </tr>\n",
       "  </tbody>\n",
       "</table>\n",
       "<p>5 rows × 23 columns</p>\n",
       "</div>"
      ],
      "text/plain": [
       "        Aging_Time  Litters_Barrel   Type  Magnesium  Residual_Sugar  \\\n",
       "WineID                                                                 \n",
       "1               65             265  White          0             0.0   \n",
       "2               47            2464    Red        310           305.0   \n",
       "3               15            2138  White          0             0.0   \n",
       "4               60             623  White          0             0.0   \n",
       "5               70             354  White          0             0.0   \n",
       "\n",
       "          Sulphites     Barrel  Grapes  Acidity  Floral  ...  Citric  Density  \\\n",
       "WineID                                                   ...                    \n",
       "1       Not Present  Aluminium  Single        0       5  ...       4        2   \n",
       "2           Present  Aluminium  Single        4       2  ...       2        2   \n",
       "3       Not Present  Aluminium  Single        3       4  ...       0        2   \n",
       "4       Not Present  Aluminium  Single        0       4  ...       4        3   \n",
       "5       Not Present  Aluminium  Single        0       4  ...       3        4   \n",
       "\n",
       "        Color_Intensity  Cloudiness  Alcohol  Astringency  \\\n",
       "WineID                                                      \n",
       "1                     3           3        0            0   \n",
       "2                     3           4        0            0   \n",
       "3                     2           3        0            0   \n",
       "4                     1           1        0            0   \n",
       "5                     2           2        0            0   \n",
       "\n",
       "        Satisfaction_France  Satisfaction_Spain  Satisfaction_Portugal  \\\n",
       "WineID                                                                   \n",
       "1                         3                   3                      2   \n",
       "2                         4                   3                      2   \n",
       "3                         4                   4                      2   \n",
       "4                         1                   1                      3   \n",
       "5                         2                   2                      5   \n",
       "\n",
       "        Satisfaction_General  \n",
       "WineID                        \n",
       "1                          1  \n",
       "2                          1  \n",
       "3                          1  \n",
       "4                          0  \n",
       "5                          1  \n",
       "\n",
       "[5 rows x 23 columns]"
      ]
     },
     "execution_count": 85,
     "metadata": {},
     "output_type": "execute_result"
    }
   ],
   "source": [
    "# Get values and calculate average, then multiply by 2 to scale it in 0-10\n",
    "avgS = ((wm['Satisfaction_France'] + wm['Satisfaction_Spain'] + wm['Satisfaction_Portugal'])/3)*2\n",
    "\n",
    "# Create a list to store in 0s and 1s\n",
    "winerate = []\n",
    "\n",
    "#Loop to append values after if statement\n",
    "for avg in avgS:\n",
    "    if (avg > 5):\n",
    "        wr = 1\n",
    "        winerate.append(wr)\n",
    "    else:\n",
    "        wr = 0\n",
    "        winerate.append(wr)\n",
    "\n",
    "#Add column with winerate values\n",
    "wm['Satisfaction_General'] = winerate\n",
    "\n",
    "wm.head()"
   ]
  },
  {
   "cell_type": "markdown",
   "metadata": {},
   "source": [
    "<b><font size=\"5\">Correlations</font><a class=\"anchor\"><a id='toc'></a></b>"
   ]
  },
  {
   "cell_type": "code",
   "execution_count": 40,
   "metadata": {},
   "outputs": [
    {
     "data": {
      "text/plain": [
       "<AxesSubplot:>"
      ]
     },
     "execution_count": 40,
     "metadata": {},
     "output_type": "execute_result"
    },
    {
     "data": {
      "image/png": "[encoded data removed]",
      "text/plain": [
       "<Figure size 1152x720 with 2 Axes>"
      ]
     },
     "metadata": {
      "needs_background": "light"
     },
     "output_type": "display_data"
    }
   ],
   "source": [
    "# Create new dataframe for correlations\n",
    "wm_corr = wm_cleaned.copy()\n",
    "# Create new dataframe named corr with the correlation between the variables, using the corr()method\n",
    "corr = wm_corr.corr()\n",
    "# Create a figure \n",
    "figure = plt.figure(figsize=(16,10))\n",
    "# Create a heatmap plot\n",
    "sns.heatmap(data = corr, annot=True, fmt = '.1g')"
   ]
  },
  {
   "cell_type": "markdown",
   "metadata": {},
   "source": [
    "<b><font size=\"5\">Segmentation of the Variables</font><a class=\"anchor\"><a id='toc'></a></b>"
   ]
  },
  {
   "cell_type": "markdown",
   "metadata": {},
   "source": [
    "There are two segmentation which will be used from now on:\n",
    "- flavor/ feeling\n",
    "- production characteristics"
   ]
  },
  {
   "cell_type": "code",
   "execution_count": 41,
   "metadata": {},
   "outputs": [],
   "source": [
    "# Definition of flavor/ feeling segmentation in wm_flavfeel\n",
    "wm_flavfeel = wm_cleaned[['Residual_Sugar','Acidity','Floral','Wood','Sweetness','Red_Fruit','Citric','Density','Cloudiness','Alcohol','Astringency']].copy()"
   ]
  },
  {
   "cell_type": "code",
   "execution_count": 42,
   "metadata": {},
   "outputs": [],
   "source": [
    "# Definition of production characteristics segmentation in wm_prodchar\n",
    "wm_prodchar = wm_cleaned[['Aging_Time','Litters_Barrel','Type_White','Magnesium','Sulphites_Presence','Barrel_Wooden','Grapes_Single','Color_Intensity','Satisfaction_France','Satisfaction_Spain','Satisfaction_Portugal']].copy()"
   ]
  }
 ],
 "metadata": {
  "kernelspec": {
   "display_name": "Python 3 (ipykernel)",
   "language": "python",
   "name": "python3"
  },
  "language_info": {
   "codemirror_mode": {
    "name": "ipython",
    "version": 3
   },
   "file_extension": ".py",
   "mimetype": "text/x-python",
   "name": "python",
   "nbconvert_exporter": "python",
   "pygments_lexer": "ipython3",
   "version": "3.9.7"
  }
 },
 "nbformat": 4,
 "nbformat_minor": 4
}
