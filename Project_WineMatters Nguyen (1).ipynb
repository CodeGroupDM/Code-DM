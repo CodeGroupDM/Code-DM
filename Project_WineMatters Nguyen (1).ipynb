{
 "cells": [
  {
   "cell_type": "markdown",
   "metadata": {},
   "source": [
    "<b><font size=\"5\">Data importation and integration</font><a class=\"anchor\"><a id='toc'></a></b>"
   ]
  },
  {
   "cell_type": "code",
   "execution_count": 1,
   "metadata": {},
   "outputs": [],
   "source": [
    "# Import relevant libraries\n",
    "import warnings\n",
    "warnings.simplefilter(\"ignore\")\n",
    "import pandas as pd\n",
    "import numpy as np\n",
    "import matplotlib.pyplot as plt\n",
    "import seaborn as sns\n",
    "from sklearn.cluster import KMeans\n",
    "from scipy.cluster.hierarchy import dendrogram, linkage"
   ]
  },
  {
   "cell_type": "code",
   "execution_count": 2,
   "metadata": {},
   "outputs": [],
   "source": [
    "# Import dataset WineMatters and save in variable wm\n",
    "wm = pd.read_csv(r'data\\WineMatters.csv')"
   ]
  },
  {
   "cell_type": "code",
   "execution_count": 3,
   "metadata": {
    "scrolled": true
   },
   "outputs": [],
   "source": [
    "# Set WineID as index and show dataset\n",
    "wm.set_index('WineID', inplace = True)"
   ]
  },
  {
   "cell_type": "code",
   "execution_count": 4,
   "metadata": {
    "scrolled": true
   },
   "outputs": [
    {
     "data": {
      "text/html": [
       "<div>\n",
       "<style scoped>\n",
       "    .dataframe tbody tr th:only-of-type {\n",
       "        vertical-align: middle;\n",
       "    }\n",
       "\n",
       "    .dataframe tbody tr th {\n",
       "        vertical-align: top;\n",
       "    }\n",
       "\n",
       "    .dataframe thead th {\n",
       "        text-align: right;\n",
       "    }\n",
       "</style>\n",
       "<table border=\"1\" class=\"dataframe\">\n",
       "  <thead>\n",
       "    <tr style=\"text-align: right;\">\n",
       "      <th></th>\n",
       "      <th>Aging_Time</th>\n",
       "      <th>Litters_Barrel</th>\n",
       "      <th>Type</th>\n",
       "      <th>Magnesium</th>\n",
       "      <th>Residual_Sugar</th>\n",
       "      <th>Sulphites</th>\n",
       "      <th>Barrel</th>\n",
       "      <th>Grapes</th>\n",
       "      <th>Acidity</th>\n",
       "      <th>Floral</th>\n",
       "      <th>...</th>\n",
       "      <th>Red_Fruit</th>\n",
       "      <th>Citric</th>\n",
       "      <th>Density</th>\n",
       "      <th>Color_Intensity</th>\n",
       "      <th>Cloudiness</th>\n",
       "      <th>Alcohol</th>\n",
       "      <th>Astringency</th>\n",
       "      <th>Satisfaction_France</th>\n",
       "      <th>Satisfaction_Spain</th>\n",
       "      <th>Satisfaction_Portugal</th>\n",
       "    </tr>\n",
       "    <tr>\n",
       "      <th>WineID</th>\n",
       "      <th></th>\n",
       "      <th></th>\n",
       "      <th></th>\n",
       "      <th></th>\n",
       "      <th></th>\n",
       "      <th></th>\n",
       "      <th></th>\n",
       "      <th></th>\n",
       "      <th></th>\n",
       "      <th></th>\n",
       "      <th></th>\n",
       "      <th></th>\n",
       "      <th></th>\n",
       "      <th></th>\n",
       "      <th></th>\n",
       "      <th></th>\n",
       "      <th></th>\n",
       "      <th></th>\n",
       "      <th></th>\n",
       "      <th></th>\n",
       "      <th></th>\n",
       "    </tr>\n",
       "  </thead>\n",
       "  <tbody>\n",
       "    <tr>\n",
       "      <th>1</th>\n",
       "      <td>65</td>\n",
       "      <td>265</td>\n",
       "      <td>White</td>\n",
       "      <td>0</td>\n",
       "      <td>0.0</td>\n",
       "      <td>Not Present</td>\n",
       "      <td>Aluminium</td>\n",
       "      <td>Single</td>\n",
       "      <td>0</td>\n",
       "      <td>5</td>\n",
       "      <td>...</td>\n",
       "      <td>2</td>\n",
       "      <td>4</td>\n",
       "      <td>2</td>\n",
       "      <td>3</td>\n",
       "      <td>3</td>\n",
       "      <td>0</td>\n",
       "      <td>0</td>\n",
       "      <td>6</td>\n",
       "      <td>6</td>\n",
       "      <td>4</td>\n",
       "    </tr>\n",
       "    <tr>\n",
       "      <th>2</th>\n",
       "      <td>47</td>\n",
       "      <td>2464</td>\n",
       "      <td>Red</td>\n",
       "      <td>310</td>\n",
       "      <td>305.0</td>\n",
       "      <td>Present</td>\n",
       "      <td>Aluminium</td>\n",
       "      <td>Single</td>\n",
       "      <td>4</td>\n",
       "      <td>2</td>\n",
       "      <td>...</td>\n",
       "      <td>0</td>\n",
       "      <td>2</td>\n",
       "      <td>2</td>\n",
       "      <td>3</td>\n",
       "      <td>4</td>\n",
       "      <td>0</td>\n",
       "      <td>0</td>\n",
       "      <td>8</td>\n",
       "      <td>6</td>\n",
       "      <td>4</td>\n",
       "    </tr>\n",
       "    <tr>\n",
       "      <th>3</th>\n",
       "      <td>15</td>\n",
       "      <td>2138</td>\n",
       "      <td>White</td>\n",
       "      <td>0</td>\n",
       "      <td>0.0</td>\n",
       "      <td>Not Present</td>\n",
       "      <td>Aluminium</td>\n",
       "      <td>Single</td>\n",
       "      <td>3</td>\n",
       "      <td>4</td>\n",
       "      <td>...</td>\n",
       "      <td>2</td>\n",
       "      <td>0</td>\n",
       "      <td>2</td>\n",
       "      <td>2</td>\n",
       "      <td>3</td>\n",
       "      <td>0</td>\n",
       "      <td>0</td>\n",
       "      <td>8</td>\n",
       "      <td>8</td>\n",
       "      <td>4</td>\n",
       "    </tr>\n",
       "    <tr>\n",
       "      <th>4</th>\n",
       "      <td>60</td>\n",
       "      <td>623</td>\n",
       "      <td>White</td>\n",
       "      <td>0</td>\n",
       "      <td>0.0</td>\n",
       "      <td>Not Present</td>\n",
       "      <td>Aluminium</td>\n",
       "      <td>Single</td>\n",
       "      <td>0</td>\n",
       "      <td>4</td>\n",
       "      <td>...</td>\n",
       "      <td>3</td>\n",
       "      <td>4</td>\n",
       "      <td>3</td>\n",
       "      <td>1</td>\n",
       "      <td>1</td>\n",
       "      <td>0</td>\n",
       "      <td>0</td>\n",
       "      <td>2</td>\n",
       "      <td>2</td>\n",
       "      <td>6</td>\n",
       "    </tr>\n",
       "    <tr>\n",
       "      <th>5</th>\n",
       "      <td>70</td>\n",
       "      <td>354</td>\n",
       "      <td>White</td>\n",
       "      <td>0</td>\n",
       "      <td>0.0</td>\n",
       "      <td>Not Present</td>\n",
       "      <td>Aluminium</td>\n",
       "      <td>Single</td>\n",
       "      <td>0</td>\n",
       "      <td>4</td>\n",
       "      <td>...</td>\n",
       "      <td>4</td>\n",
       "      <td>3</td>\n",
       "      <td>4</td>\n",
       "      <td>2</td>\n",
       "      <td>2</td>\n",
       "      <td>0</td>\n",
       "      <td>0</td>\n",
       "      <td>4</td>\n",
       "      <td>4</td>\n",
       "      <td>10</td>\n",
       "    </tr>\n",
       "  </tbody>\n",
       "</table>\n",
       "<p>5 rows × 22 columns</p>\n",
       "</div>"
      ],
      "text/plain": [
       "        Aging_Time  Litters_Barrel   Type  Magnesium  Residual_Sugar  \\\n",
       "WineID                                                                 \n",
       "1               65             265  White          0             0.0   \n",
       "2               47            2464    Red        310           305.0   \n",
       "3               15            2138  White          0             0.0   \n",
       "4               60             623  White          0             0.0   \n",
       "5               70             354  White          0             0.0   \n",
       "\n",
       "          Sulphites     Barrel  Grapes  Acidity  Floral  ...  Red_Fruit  \\\n",
       "WineID                                                   ...              \n",
       "1       Not Present  Aluminium  Single        0       5  ...          2   \n",
       "2           Present  Aluminium  Single        4       2  ...          0   \n",
       "3       Not Present  Aluminium  Single        3       4  ...          2   \n",
       "4       Not Present  Aluminium  Single        0       4  ...          3   \n",
       "5       Not Present  Aluminium  Single        0       4  ...          4   \n",
       "\n",
       "        Citric  Density  Color_Intensity  Cloudiness  Alcohol  Astringency  \\\n",
       "WineID                                                                       \n",
       "1            4        2                3           3        0            0   \n",
       "2            2        2                3           4        0            0   \n",
       "3            0        2                2           3        0            0   \n",
       "4            4        3                1           1        0            0   \n",
       "5            3        4                2           2        0            0   \n",
       "\n",
       "        Satisfaction_France  Satisfaction_Spain  Satisfaction_Portugal  \n",
       "WineID                                                                  \n",
       "1                         6                   6                      4  \n",
       "2                         8                   6                      4  \n",
       "3                         8                   8                      4  \n",
       "4                         2                   2                      6  \n",
       "5                         4                   4                     10  \n",
       "\n",
       "[5 rows x 22 columns]"
      ]
     },
     "execution_count": 4,
     "metadata": {},
     "output_type": "execute_result"
    }
   ],
   "source": [
    "# Show dataset\n",
    "wm.head()"
   ]
  },
  {
   "cell_type": "markdown",
   "metadata": {},
   "source": [
    "<b><font size=\"5\">Data Exploration</font><a class=\"anchor\"><a id='toc'></a></b>"
   ]
  },
  {
   "cell_type": "code",
   "execution_count": 5,
   "metadata": {},
   "outputs": [
    {
     "data": {
      "text/plain": [
       "(129881, 22)"
      ]
     },
     "execution_count": 5,
     "metadata": {},
     "output_type": "execute_result"
    }
   ],
   "source": [
    "# Check number of rows and columns\n",
    "wm.shape"
   ]
  },
  {
   "cell_type": "markdown",
   "metadata": {},
   "source": [
    "We can observe that the dataset contains 129881 rows and 22 columns."
   ]
  },
  {
   "cell_type": "code",
   "execution_count": 6,
   "metadata": {},
   "outputs": [
    {
     "data": {
      "text/plain": [
       "Index(['Aging_Time', 'Litters_Barrel', 'Type', 'Magnesium', 'Residual_Sugar',\n",
       "       'Sulphites', 'Barrel', 'Grapes', 'Acidity', 'Floral', 'Wood',\n",
       "       'Sweetness', 'Red_Fruit', 'Citric', 'Density', 'Color_Intensity',\n",
       "       'Cloudiness', 'Alcohol', 'Astringency', 'Satisfaction_France',\n",
       "       'Satisfaction_Spain', 'Satisfaction_Portugal'],\n",
       "      dtype='object')"
      ]
     },
     "execution_count": 6,
     "metadata": {},
     "output_type": "execute_result"
    }
   ],
   "source": [
    "# Check column names\n",
    "wm.columns"
   ]
  },
  {
   "cell_type": "code",
   "execution_count": 7,
   "metadata": {},
   "outputs": [
    {
     "name": "stdout",
     "output_type": "stream",
     "text": [
      "<class 'pandas.core.frame.DataFrame'>\n",
      "Int64Index: 129881 entries, 1 to 129880\n",
      "Data columns (total 22 columns):\n",
      " #   Column                 Non-Null Count   Dtype  \n",
      "---  ------                 --------------   -----  \n",
      " 0   Aging_Time             129881 non-null  int64  \n",
      " 1   Litters_Barrel         129881 non-null  int64  \n",
      " 2   Type                   129881 non-null  object \n",
      " 3   Magnesium              129881 non-null  int64  \n",
      " 4   Residual_Sugar         129490 non-null  float64\n",
      " 5   Sulphites              129881 non-null  object \n",
      " 6   Barrel                 129825 non-null  object \n",
      " 7   Grapes                 129873 non-null  object \n",
      " 8   Acidity                129881 non-null  int64  \n",
      " 9   Floral                 129881 non-null  int64  \n",
      " 10  Wood                   129881 non-null  int64  \n",
      " 11  Sweetness              129881 non-null  int64  \n",
      " 12  Red_Fruit              129881 non-null  int64  \n",
      " 13  Citric                 129881 non-null  int64  \n",
      " 14  Density                129881 non-null  int64  \n",
      " 15  Color_Intensity        129881 non-null  int64  \n",
      " 16  Cloudiness             129881 non-null  int64  \n",
      " 17  Alcohol                129881 non-null  int64  \n",
      " 18  Astringency            129881 non-null  int64  \n",
      " 19  Satisfaction_France    129881 non-null  int64  \n",
      " 20  Satisfaction_Spain     129881 non-null  int64  \n",
      " 21  Satisfaction_Portugal  129881 non-null  int64  \n",
      "dtypes: float64(1), int64(17), object(4)\n",
      "memory usage: 22.8+ MB\n"
     ]
    }
   ],
   "source": [
    "# Check the data type of the variables and the non-missing values for each variable in the dataset\n",
    "wm.info()"
   ]
  },
  {
   "cell_type": "markdown",
   "metadata": {},
   "source": [
    "In this dataset, we can verify that we have:\n",
    "\n",
    "- 1 variables with the type float;\n",
    "- 18 variables that are integer;\n",
    "- 4 variables that are objects, which is the same as to say categorical variables."
   ]
  },
  {
   "cell_type": "code",
   "execution_count": 8,
   "metadata": {},
   "outputs": [
    {
     "data": {
      "text/plain": [
       "Aging_Time                 0\n",
       "Litters_Barrel             0\n",
       "Type                       0\n",
       "Magnesium                  0\n",
       "Residual_Sugar           391\n",
       "Sulphites                  0\n",
       "Barrel                    56\n",
       "Grapes                     8\n",
       "Acidity                    0\n",
       "Floral                     0\n",
       "Wood                       0\n",
       "Sweetness                  0\n",
       "Red_Fruit                  0\n",
       "Citric                     0\n",
       "Density                    0\n",
       "Color_Intensity            0\n",
       "Cloudiness                 0\n",
       "Alcohol                    0\n",
       "Astringency                0\n",
       "Satisfaction_France        0\n",
       "Satisfaction_Spain         0\n",
       "Satisfaction_Portugal      0\n",
       "dtype: int64"
      ]
     },
     "execution_count": 8,
     "metadata": {},
     "output_type": "execute_result"
    }
   ],
   "source": [
    "# Checking and identifying missing values \n",
    "wm.isna().sum()"
   ]
  },
  {
   "cell_type": "markdown",
   "metadata": {},
   "source": [
    "We  can conclude that we have missing values on some of the variables, namely:\n",
    "- Residual_Sugar (391 missing values)\n",
    "- Barrel (56 missing value);\n",
    "- Grapes (8 missing values)"
   ]
  },
  {
   "cell_type": "code",
   "execution_count": 9,
   "metadata": {},
   "outputs": [
    {
     "data": {
      "text/html": [
       "<div>\n",
       "<style scoped>\n",
       "    .dataframe tbody tr th:only-of-type {\n",
       "        vertical-align: middle;\n",
       "    }\n",
       "\n",
       "    .dataframe tbody tr th {\n",
       "        vertical-align: top;\n",
       "    }\n",
       "\n",
       "    .dataframe thead th {\n",
       "        text-align: right;\n",
       "    }\n",
       "</style>\n",
       "<table border=\"1\" class=\"dataframe\">\n",
       "  <thead>\n",
       "    <tr style=\"text-align: right;\">\n",
       "      <th></th>\n",
       "      <th>Aging_Time</th>\n",
       "      <th>Litters_Barrel</th>\n",
       "      <th>Magnesium</th>\n",
       "      <th>Residual_Sugar</th>\n",
       "      <th>Acidity</th>\n",
       "      <th>Floral</th>\n",
       "      <th>Wood</th>\n",
       "      <th>Sweetness</th>\n",
       "      <th>Red_Fruit</th>\n",
       "      <th>Citric</th>\n",
       "      <th>Density</th>\n",
       "      <th>Color_Intensity</th>\n",
       "      <th>Cloudiness</th>\n",
       "      <th>Alcohol</th>\n",
       "      <th>Astringency</th>\n",
       "      <th>Satisfaction_France</th>\n",
       "      <th>Satisfaction_Spain</th>\n",
       "      <th>Satisfaction_Portugal</th>\n",
       "    </tr>\n",
       "  </thead>\n",
       "  <tbody>\n",
       "    <tr>\n",
       "      <th>count</th>\n",
       "      <td>129881.000000</td>\n",
       "      <td>129881.000000</td>\n",
       "      <td>129881.000000</td>\n",
       "      <td>129490.000000</td>\n",
       "      <td>129881.000000</td>\n",
       "      <td>129881.000000</td>\n",
       "      <td>129881.000000</td>\n",
       "      <td>129881.000000</td>\n",
       "      <td>129881.000000</td>\n",
       "      <td>129881.000000</td>\n",
       "      <td>129881.000000</td>\n",
       "      <td>129881.000000</td>\n",
       "      <td>129881.000000</td>\n",
       "      <td>129881.000000</td>\n",
       "      <td>129881.000000</td>\n",
       "      <td>129881.000000</td>\n",
       "      <td>129881.000000</td>\n",
       "      <td>129881.000000</td>\n",
       "    </tr>\n",
       "    <tr>\n",
       "      <th>mean</th>\n",
       "      <td>39.427907</td>\n",
       "      <td>1981.419854</td>\n",
       "      <td>14.713599</td>\n",
       "      <td>15.090779</td>\n",
       "      <td>3.485914</td>\n",
       "      <td>3.340820</td>\n",
       "      <td>2.851972</td>\n",
       "      <td>2.990422</td>\n",
       "      <td>3.249113</td>\n",
       "      <td>3.383451</td>\n",
       "      <td>3.519683</td>\n",
       "      <td>3.472086</td>\n",
       "      <td>3.466743</td>\n",
       "      <td>2.838575</td>\n",
       "      <td>2.990653</td>\n",
       "      <td>7.391351</td>\n",
       "      <td>7.411523</td>\n",
       "      <td>6.705138</td>\n",
       "    </tr>\n",
       "    <tr>\n",
       "      <th>std</th>\n",
       "      <td>15.119312</td>\n",
       "      <td>1027.119025</td>\n",
       "      <td>38.071002</td>\n",
       "      <td>38.465273</td>\n",
       "      <td>1.292228</td>\n",
       "      <td>1.260586</td>\n",
       "      <td>1.443746</td>\n",
       "      <td>1.305965</td>\n",
       "      <td>1.318827</td>\n",
       "      <td>1.346087</td>\n",
       "      <td>1.306524</td>\n",
       "      <td>1.305573</td>\n",
       "      <td>1.273503</td>\n",
       "      <td>1.393000</td>\n",
       "      <td>1.527221</td>\n",
       "      <td>2.312959</td>\n",
       "      <td>2.303540</td>\n",
       "      <td>2.597452</td>\n",
       "    </tr>\n",
       "    <tr>\n",
       "      <th>min</th>\n",
       "      <td>7.000000</td>\n",
       "      <td>50.000000</td>\n",
       "      <td>0.000000</td>\n",
       "      <td>0.000000</td>\n",
       "      <td>0.000000</td>\n",
       "      <td>0.000000</td>\n",
       "      <td>0.000000</td>\n",
       "      <td>0.000000</td>\n",
       "      <td>0.000000</td>\n",
       "      <td>0.000000</td>\n",
       "      <td>0.000000</td>\n",
       "      <td>0.000000</td>\n",
       "      <td>0.000000</td>\n",
       "      <td>0.000000</td>\n",
       "      <td>0.000000</td>\n",
       "      <td>2.000000</td>\n",
       "      <td>0.000000</td>\n",
       "      <td>0.000000</td>\n",
       "    </tr>\n",
       "    <tr>\n",
       "      <th>25%</th>\n",
       "      <td>27.000000</td>\n",
       "      <td>1359.000000</td>\n",
       "      <td>0.000000</td>\n",
       "      <td>0.000000</td>\n",
       "      <td>2.000000</td>\n",
       "      <td>3.000000</td>\n",
       "      <td>2.000000</td>\n",
       "      <td>2.000000</td>\n",
       "      <td>2.000000</td>\n",
       "      <td>2.000000</td>\n",
       "      <td>3.000000</td>\n",
       "      <td>2.000000</td>\n",
       "      <td>3.000000</td>\n",
       "      <td>2.000000</td>\n",
       "      <td>2.000000</td>\n",
       "      <td>6.000000</td>\n",
       "      <td>6.000000</td>\n",
       "      <td>4.000000</td>\n",
       "    </tr>\n",
       "    <tr>\n",
       "      <th>50%</th>\n",
       "      <td>40.000000</td>\n",
       "      <td>1925.000000</td>\n",
       "      <td>0.000000</td>\n",
       "      <td>0.000000</td>\n",
       "      <td>4.000000</td>\n",
       "      <td>3.000000</td>\n",
       "      <td>3.000000</td>\n",
       "      <td>3.000000</td>\n",
       "      <td>3.000000</td>\n",
       "      <td>4.000000</td>\n",
       "      <td>4.000000</td>\n",
       "      <td>4.000000</td>\n",
       "      <td>4.000000</td>\n",
       "      <td>3.000000</td>\n",
       "      <td>3.000000</td>\n",
       "      <td>8.000000</td>\n",
       "      <td>8.000000</td>\n",
       "      <td>8.000000</td>\n",
       "    </tr>\n",
       "    <tr>\n",
       "      <th>75%</th>\n",
       "      <td>51.000000</td>\n",
       "      <td>2544.000000</td>\n",
       "      <td>12.000000</td>\n",
       "      <td>13.000000</td>\n",
       "      <td>5.000000</td>\n",
       "      <td>4.000000</td>\n",
       "      <td>4.000000</td>\n",
       "      <td>4.000000</td>\n",
       "      <td>4.000000</td>\n",
       "      <td>4.000000</td>\n",
       "      <td>5.000000</td>\n",
       "      <td>5.000000</td>\n",
       "      <td>4.000000</td>\n",
       "      <td>4.000000</td>\n",
       "      <td>4.000000</td>\n",
       "      <td>10.000000</td>\n",
       "      <td>10.000000</td>\n",
       "      <td>8.000000</td>\n",
       "    </tr>\n",
       "    <tr>\n",
       "      <th>max</th>\n",
       "      <td>85.000000</td>\n",
       "      <td>6951.000000</td>\n",
       "      <td>1592.000000</td>\n",
       "      <td>1584.000000</td>\n",
       "      <td>5.000000</td>\n",
       "      <td>5.000000</td>\n",
       "      <td>5.000000</td>\n",
       "      <td>5.000000</td>\n",
       "      <td>5.000000</td>\n",
       "      <td>5.000000</td>\n",
       "      <td>5.000000</td>\n",
       "      <td>5.000000</td>\n",
       "      <td>6.000000</td>\n",
       "      <td>5.000000</td>\n",
       "      <td>5.000000</td>\n",
       "      <td>10.000000</td>\n",
       "      <td>10.000000</td>\n",
       "      <td>10.000000</td>\n",
       "    </tr>\n",
       "  </tbody>\n",
       "</table>\n",
       "</div>"
      ],
      "text/plain": [
       "          Aging_Time  Litters_Barrel      Magnesium  Residual_Sugar  \\\n",
       "count  129881.000000   129881.000000  129881.000000   129490.000000   \n",
       "mean       39.427907     1981.419854      14.713599       15.090779   \n",
       "std        15.119312     1027.119025      38.071002       38.465273   \n",
       "min         7.000000       50.000000       0.000000        0.000000   \n",
       "25%        27.000000     1359.000000       0.000000        0.000000   \n",
       "50%        40.000000     1925.000000       0.000000        0.000000   \n",
       "75%        51.000000     2544.000000      12.000000       13.000000   \n",
       "max        85.000000     6951.000000    1592.000000     1584.000000   \n",
       "\n",
       "             Acidity         Floral           Wood      Sweetness  \\\n",
       "count  129881.000000  129881.000000  129881.000000  129881.000000   \n",
       "mean        3.485914       3.340820       2.851972       2.990422   \n",
       "std         1.292228       1.260586       1.443746       1.305965   \n",
       "min         0.000000       0.000000       0.000000       0.000000   \n",
       "25%         2.000000       3.000000       2.000000       2.000000   \n",
       "50%         4.000000       3.000000       3.000000       3.000000   \n",
       "75%         5.000000       4.000000       4.000000       4.000000   \n",
       "max         5.000000       5.000000       5.000000       5.000000   \n",
       "\n",
       "           Red_Fruit         Citric        Density  Color_Intensity  \\\n",
       "count  129881.000000  129881.000000  129881.000000    129881.000000   \n",
       "mean        3.249113       3.383451       3.519683         3.472086   \n",
       "std         1.318827       1.346087       1.306524         1.305573   \n",
       "min         0.000000       0.000000       0.000000         0.000000   \n",
       "25%         2.000000       2.000000       3.000000         2.000000   \n",
       "50%         3.000000       4.000000       4.000000         4.000000   \n",
       "75%         4.000000       4.000000       5.000000         5.000000   \n",
       "max         5.000000       5.000000       5.000000         5.000000   \n",
       "\n",
       "          Cloudiness        Alcohol    Astringency  Satisfaction_France  \\\n",
       "count  129881.000000  129881.000000  129881.000000        129881.000000   \n",
       "mean        3.466743       2.838575       2.990653             7.391351   \n",
       "std         1.273503       1.393000       1.527221             2.312959   \n",
       "min         0.000000       0.000000       0.000000             2.000000   \n",
       "25%         3.000000       2.000000       2.000000             6.000000   \n",
       "50%         4.000000       3.000000       3.000000             8.000000   \n",
       "75%         4.000000       4.000000       4.000000            10.000000   \n",
       "max         6.000000       5.000000       5.000000            10.000000   \n",
       "\n",
       "       Satisfaction_Spain  Satisfaction_Portugal  \n",
       "count       129881.000000          129881.000000  \n",
       "mean             7.411523               6.705138  \n",
       "std              2.303540               2.597452  \n",
       "min              0.000000               0.000000  \n",
       "25%              6.000000               4.000000  \n",
       "50%              8.000000               8.000000  \n",
       "75%             10.000000               8.000000  \n",
       "max             10.000000              10.000000  "
      ]
     },
     "execution_count": 9,
     "metadata": {},
     "output_type": "execute_result"
    }
   ],
   "source": [
    "# Get descriptive statistics for the numerical data\n",
    "wm.describe()"
   ]
  },
  {
   "cell_type": "markdown",
   "metadata": {},
   "source": [
    "For example, we could observe that the average aging time is about 39 years."
   ]
  },
  {
   "cell_type": "code",
   "execution_count": 10,
   "metadata": {
    "scrolled": true
   },
   "outputs": [
    {
     "data": {
      "text/html": [
       "<div>\n",
       "<style scoped>\n",
       "    .dataframe tbody tr th:only-of-type {\n",
       "        vertical-align: middle;\n",
       "    }\n",
       "\n",
       "    .dataframe tbody tr th {\n",
       "        vertical-align: top;\n",
       "    }\n",
       "\n",
       "    .dataframe thead th {\n",
       "        text-align: right;\n",
       "    }\n",
       "</style>\n",
       "<table border=\"1\" class=\"dataframe\">\n",
       "  <thead>\n",
       "    <tr style=\"text-align: right;\">\n",
       "      <th></th>\n",
       "      <th>Type</th>\n",
       "      <th>Sulphites</th>\n",
       "      <th>Barrel</th>\n",
       "      <th>Grapes</th>\n",
       "    </tr>\n",
       "  </thead>\n",
       "  <tbody>\n",
       "    <tr>\n",
       "      <th>count</th>\n",
       "      <td>129881</td>\n",
       "      <td>129881</td>\n",
       "      <td>129825</td>\n",
       "      <td>129873</td>\n",
       "    </tr>\n",
       "    <tr>\n",
       "      <th>unique</th>\n",
       "      <td>2</td>\n",
       "      <td>4</td>\n",
       "      <td>2</td>\n",
       "      <td>2</td>\n",
       "    </tr>\n",
       "    <tr>\n",
       "      <th>top</th>\n",
       "      <td>White</td>\n",
       "      <td>Present</td>\n",
       "      <td>Aluminium</td>\n",
       "      <td>Mixed</td>\n",
       "    </tr>\n",
       "    <tr>\n",
       "      <th>freq</th>\n",
       "      <td>65900</td>\n",
       "      <td>62160</td>\n",
       "      <td>106045</td>\n",
       "      <td>89685</td>\n",
       "    </tr>\n",
       "  </tbody>\n",
       "</table>\n",
       "</div>"
      ],
      "text/plain": [
       "          Type Sulphites     Barrel  Grapes\n",
       "count   129881    129881     129825  129873\n",
       "unique       2         4          2       2\n",
       "top      White   Present  Aluminium   Mixed\n",
       "freq     65900     62160     106045   89685"
      ]
     },
     "execution_count": 10,
     "metadata": {},
     "output_type": "execute_result"
    }
   ],
   "source": [
    "# Get descriptive statistics for the categorical data\n",
    "wm.describe(include = ['O'])"
   ]
  },
  {
   "cell_type": "markdown",
   "metadata": {},
   "source": [
    "<b><font size=\"3\">Frequency of each level in categorical variables</font><a class=\"anchor\"><a id='toc'></a></b>"
   ]
  },
  {
   "cell_type": "code",
   "execution_count": 11,
   "metadata": {},
   "outputs": [
    {
     "data": {
      "text/plain": [
       "White    65900\n",
       "Red      63981\n",
       "Name: Type, dtype: int64"
      ]
     },
     "execution_count": 11,
     "metadata": {},
     "output_type": "execute_result"
    }
   ],
   "source": [
    "# Check the frequency of each level in categorical variable Type\n",
    "wm['Type'].value_counts()"
   ]
  },
  {
   "cell_type": "code",
   "execution_count": 12,
   "metadata": {},
   "outputs": [
    {
     "data": {
      "text/plain": [
       "Aluminium    106045\n",
       "Wooden        23780\n",
       "Name: Barrel, dtype: int64"
      ]
     },
     "execution_count": 12,
     "metadata": {},
     "output_type": "execute_result"
    }
   ],
   "source": [
    "# Check the frequency of each level in categorical variable Barrel\n",
    "wm['Barrel'].value_counts()"
   ]
  },
  {
   "cell_type": "code",
   "execution_count": 13,
   "metadata": {},
   "outputs": [
    {
     "data": {
      "text/plain": [
       "Mixed     89685\n",
       "Single    40188\n",
       "Name: Grapes, dtype: int64"
      ]
     },
     "execution_count": 13,
     "metadata": {},
     "output_type": "execute_result"
    }
   ],
   "source": [
    "# Check the frequency of each level in categorical variable Grapes\n",
    "wm['Grapes'].value_counts()"
   ]
  },
  {
   "cell_type": "code",
   "execution_count": 14,
   "metadata": {},
   "outputs": [
    {
     "data": {
      "text/plain": [
       "Present        62160\n",
       "Not Present    58305\n",
       "Very Few        9412\n",
       "0                  4\n",
       "Name: Sulphites, dtype: int64"
      ]
     },
     "execution_count": 14,
     "metadata": {},
     "output_type": "execute_result"
    }
   ],
   "source": [
    "# Check the frequency of each level in categorical variable Sulphites\n",
    "wm['Sulphites'].value_counts()"
   ]
  },
  {
   "cell_type": "markdown",
   "metadata": {},
   "source": [
    "In Sulphites there are the values Not Present and 0 which should be the same. In a further step they will get joined together."
   ]
  },
  {
   "cell_type": "markdown",
   "metadata": {},
   "source": [
    "<b><font size=\"3\">Mean value of satisfaction per country by type of wine</font><a class=\"anchor\"><a id='toc'></a></b>"
   ]
  },
  {
   "cell_type": "code",
   "execution_count": 15,
   "metadata": {},
   "outputs": [
    {
     "data": {
      "text/plain": [
       "Type\n",
       "Red      7.351307\n",
       "White    7.430228\n",
       "Name: Satisfaction_France, dtype: float64"
      ]
     },
     "execution_count": 15,
     "metadata": {},
     "output_type": "execute_result"
    }
   ],
   "source": [
    "# Mean value of satisfaction in France by type of wine \n",
    "wm.groupby('Type')['Satisfaction_France'].mean()"
   ]
  },
  {
   "cell_type": "code",
   "execution_count": 16,
   "metadata": {},
   "outputs": [
    {
     "data": {
      "text/plain": [
       "Type\n",
       "Red      7.376346\n",
       "White    7.445675\n",
       "Name: Satisfaction_Spain, dtype: float64"
      ]
     },
     "execution_count": 16,
     "metadata": {},
     "output_type": "execute_result"
    }
   ],
   "source": [
    "# Mean value of satisfaction in Spain by type of wine \n",
    "wm.groupby('Type')['Satisfaction_Spain'].mean()"
   ]
  },
  {
   "cell_type": "code",
   "execution_count": 17,
   "metadata": {},
   "outputs": [
    {
     "data": {
      "text/plain": [
       "Type\n",
       "Red      6.580297\n",
       "White    6.826343\n",
       "Name: Satisfaction_Portugal, dtype: float64"
      ]
     },
     "execution_count": 17,
     "metadata": {},
     "output_type": "execute_result"
    }
   ],
   "source": [
    "# Mean value of satisfaction in Portugal by type of wine \n",
    "wm.groupby('Type')['Satisfaction_Portugal'].mean()"
   ]
  },
  {
   "cell_type": "markdown",
   "metadata": {},
   "source": [
    "The satisfaction level has a scale from 0 to 10. In general, white wine has a better satisfaction level in all countries than red wine. While France and Spain are similar in their satisfaction level (around 7.35 for red wine and 7.44 for white wine), the satisfaction level of Portugal is lower (around 6.6 for red wine and 6.8 for white wine)."
   ]
  },
  {
   "cell_type": "markdown",
   "metadata": {},
   "source": [
    "<b><font size=\"3\">Visual Exploration</font><a class=\"anchor\"><a id='toc'></a></b>"
   ]
  },
  {
   "cell_type": "code",
   "execution_count": 18,
   "metadata": {},
   "outputs": [
    {
     "data": {
      "text/plain": [
       "<AxesSubplot:xlabel='count', ylabel='Alcohol'>"
      ]
     },
     "execution_count": 18,
     "metadata": {},
     "output_type": "execute_result"
    },
    {
     "data": {
      "image/png": "[encoded data removed]",
      "text/plain": [
       "<Figure size 432x288 with 1 Axes>"
      ]
     },
     "metadata": {
      "needs_background": "light"
     },
     "output_type": "display_data"
    }
   ],
   "source": [
    "sns.countplot(y = 'Alcohol', hue = 'Type', data = wm,\n",
    "             order = [1, 2, 3, 4, 5])"
   ]
  },
  {
   "cell_type": "markdown",
   "metadata": {},
   "source": [
    "<b><font size=\"5\">Data Preprocessing</font><a class=\"anchor\"><a id='toc'></a></b>"
   ]
  },
  {
   "cell_type": "markdown",
   "metadata": {},
   "source": [
    "<b><font size=\"3\">Data Transformation - Sulphites</font><a class=\"anchor\"><a id='toc'></a></b>"
   ]
  },
  {
   "cell_type": "markdown",
   "metadata": {},
   "source": [
    "By checking the frequency of each level in categorical variable Sulphites we found out that there are the four variables:\n",
    "- Present        \n",
    "- Not Present    \n",
    "- Very Few       \n",
    "- 0\n",
    "\n",
    "For easier data handling, a new variable will be created and used instead. Sulphites will be converted into a binary variable where Sulphites Presence (Present and Very Few) is indicated by 1 or else 0 (Not Presen and 0)."
   ]
  },
  {
   "cell_type": "code",
   "execution_count": 19,
   "metadata": {},
   "outputs": [
    {
     "data": {
      "text/html": [
       "<div>\n",
       "<style scoped>\n",
       "    .dataframe tbody tr th:only-of-type {\n",
       "        vertical-align: middle;\n",
       "    }\n",
       "\n",
       "    .dataframe tbody tr th {\n",
       "        vertical-align: top;\n",
       "    }\n",
       "\n",
       "    .dataframe thead th {\n",
       "        text-align: right;\n",
       "    }\n",
       "</style>\n",
       "<table border=\"1\" class=\"dataframe\">\n",
       "  <thead>\n",
       "    <tr style=\"text-align: right;\">\n",
       "      <th></th>\n",
       "      <th>Aging_Time</th>\n",
       "      <th>Litters_Barrel</th>\n",
       "      <th>Type</th>\n",
       "      <th>Magnesium</th>\n",
       "      <th>Residual_Sugar</th>\n",
       "      <th>Barrel</th>\n",
       "      <th>Grapes</th>\n",
       "      <th>Acidity</th>\n",
       "      <th>Floral</th>\n",
       "      <th>Wood</th>\n",
       "      <th>...</th>\n",
       "      <th>Citric</th>\n",
       "      <th>Density</th>\n",
       "      <th>Color_Intensity</th>\n",
       "      <th>Cloudiness</th>\n",
       "      <th>Alcohol</th>\n",
       "      <th>Astringency</th>\n",
       "      <th>Satisfaction_France</th>\n",
       "      <th>Satisfaction_Spain</th>\n",
       "      <th>Satisfaction_Portugal</th>\n",
       "      <th>Sulphites_Presence</th>\n",
       "    </tr>\n",
       "    <tr>\n",
       "      <th>WineID</th>\n",
       "      <th></th>\n",
       "      <th></th>\n",
       "      <th></th>\n",
       "      <th></th>\n",
       "      <th></th>\n",
       "      <th></th>\n",
       "      <th></th>\n",
       "      <th></th>\n",
       "      <th></th>\n",
       "      <th></th>\n",
       "      <th></th>\n",
       "      <th></th>\n",
       "      <th></th>\n",
       "      <th></th>\n",
       "      <th></th>\n",
       "      <th></th>\n",
       "      <th></th>\n",
       "      <th></th>\n",
       "      <th></th>\n",
       "      <th></th>\n",
       "      <th></th>\n",
       "    </tr>\n",
       "  </thead>\n",
       "  <tbody>\n",
       "    <tr>\n",
       "      <th>1</th>\n",
       "      <td>65</td>\n",
       "      <td>265</td>\n",
       "      <td>White</td>\n",
       "      <td>0</td>\n",
       "      <td>0.0</td>\n",
       "      <td>Aluminium</td>\n",
       "      <td>Single</td>\n",
       "      <td>0</td>\n",
       "      <td>5</td>\n",
       "      <td>0</td>\n",
       "      <td>...</td>\n",
       "      <td>4</td>\n",
       "      <td>2</td>\n",
       "      <td>3</td>\n",
       "      <td>3</td>\n",
       "      <td>0</td>\n",
       "      <td>0</td>\n",
       "      <td>6</td>\n",
       "      <td>6</td>\n",
       "      <td>4</td>\n",
       "      <td>0</td>\n",
       "    </tr>\n",
       "    <tr>\n",
       "      <th>2</th>\n",
       "      <td>47</td>\n",
       "      <td>2464</td>\n",
       "      <td>Red</td>\n",
       "      <td>310</td>\n",
       "      <td>305.0</td>\n",
       "      <td>Aluminium</td>\n",
       "      <td>Single</td>\n",
       "      <td>4</td>\n",
       "      <td>2</td>\n",
       "      <td>0</td>\n",
       "      <td>...</td>\n",
       "      <td>2</td>\n",
       "      <td>2</td>\n",
       "      <td>3</td>\n",
       "      <td>4</td>\n",
       "      <td>0</td>\n",
       "      <td>0</td>\n",
       "      <td>8</td>\n",
       "      <td>6</td>\n",
       "      <td>4</td>\n",
       "      <td>1</td>\n",
       "    </tr>\n",
       "    <tr>\n",
       "      <th>3</th>\n",
       "      <td>15</td>\n",
       "      <td>2138</td>\n",
       "      <td>White</td>\n",
       "      <td>0</td>\n",
       "      <td>0.0</td>\n",
       "      <td>Aluminium</td>\n",
       "      <td>Single</td>\n",
       "      <td>3</td>\n",
       "      <td>4</td>\n",
       "      <td>0</td>\n",
       "      <td>...</td>\n",
       "      <td>0</td>\n",
       "      <td>2</td>\n",
       "      <td>2</td>\n",
       "      <td>3</td>\n",
       "      <td>0</td>\n",
       "      <td>0</td>\n",
       "      <td>8</td>\n",
       "      <td>8</td>\n",
       "      <td>4</td>\n",
       "      <td>0</td>\n",
       "    </tr>\n",
       "    <tr>\n",
       "      <th>4</th>\n",
       "      <td>60</td>\n",
       "      <td>623</td>\n",
       "      <td>White</td>\n",
       "      <td>0</td>\n",
       "      <td>0.0</td>\n",
       "      <td>Aluminium</td>\n",
       "      <td>Single</td>\n",
       "      <td>0</td>\n",
       "      <td>4</td>\n",
       "      <td>0</td>\n",
       "      <td>...</td>\n",
       "      <td>4</td>\n",
       "      <td>3</td>\n",
       "      <td>1</td>\n",
       "      <td>1</td>\n",
       "      <td>0</td>\n",
       "      <td>0</td>\n",
       "      <td>2</td>\n",
       "      <td>2</td>\n",
       "      <td>6</td>\n",
       "      <td>0</td>\n",
       "    </tr>\n",
       "    <tr>\n",
       "      <th>5</th>\n",
       "      <td>70</td>\n",
       "      <td>354</td>\n",
       "      <td>White</td>\n",
       "      <td>0</td>\n",
       "      <td>0.0</td>\n",
       "      <td>Aluminium</td>\n",
       "      <td>Single</td>\n",
       "      <td>0</td>\n",
       "      <td>4</td>\n",
       "      <td>0</td>\n",
       "      <td>...</td>\n",
       "      <td>3</td>\n",
       "      <td>4</td>\n",
       "      <td>2</td>\n",
       "      <td>2</td>\n",
       "      <td>0</td>\n",
       "      <td>0</td>\n",
       "      <td>4</td>\n",
       "      <td>4</td>\n",
       "      <td>10</td>\n",
       "      <td>0</td>\n",
       "    </tr>\n",
       "  </tbody>\n",
       "</table>\n",
       "<p>5 rows × 22 columns</p>\n",
       "</div>"
      ],
      "text/plain": [
       "        Aging_Time  Litters_Barrel   Type  Magnesium  Residual_Sugar  \\\n",
       "WineID                                                                 \n",
       "1               65             265  White          0             0.0   \n",
       "2               47            2464    Red        310           305.0   \n",
       "3               15            2138  White          0             0.0   \n",
       "4               60             623  White          0             0.0   \n",
       "5               70             354  White          0             0.0   \n",
       "\n",
       "           Barrel  Grapes  Acidity  Floral  Wood  ...  Citric  Density  \\\n",
       "WineID                                            ...                    \n",
       "1       Aluminium  Single        0       5     0  ...       4        2   \n",
       "2       Aluminium  Single        4       2     0  ...       2        2   \n",
       "3       Aluminium  Single        3       4     0  ...       0        2   \n",
       "4       Aluminium  Single        0       4     0  ...       4        3   \n",
       "5       Aluminium  Single        0       4     0  ...       3        4   \n",
       "\n",
       "        Color_Intensity  Cloudiness  Alcohol  Astringency  \\\n",
       "WineID                                                      \n",
       "1                     3           3        0            0   \n",
       "2                     3           4        0            0   \n",
       "3                     2           3        0            0   \n",
       "4                     1           1        0            0   \n",
       "5                     2           2        0            0   \n",
       "\n",
       "        Satisfaction_France  Satisfaction_Spain  Satisfaction_Portugal  \\\n",
       "WineID                                                                   \n",
       "1                         6                   6                      4   \n",
       "2                         8                   6                      4   \n",
       "3                         8                   8                      4   \n",
       "4                         2                   2                      6   \n",
       "5                         4                   4                     10   \n",
       "\n",
       "        Sulphites_Presence  \n",
       "WineID                      \n",
       "1                        0  \n",
       "2                        1  \n",
       "3                        0  \n",
       "4                        0  \n",
       "5                        0  \n",
       "\n",
       "[5 rows x 22 columns]"
      ]
     },
     "execution_count": 19,
     "metadata": {},
     "output_type": "execute_result"
    }
   ],
   "source": [
    "# Create new variable Sulphites-Presence\n",
    "wm['Sulphites_Presence'] = np.where((wm['Sulphites']=='Very Few')|\n",
    "                                    (wm['Sulphites']=='Present'),1,0)\n",
    "\n",
    "# Drop old variable Sulphites\n",
    "wm.drop(labels = ['Sulphites'], axis = 1, inplace = True)\n",
    "\n",
    "#Show dataset\n",
    "wm.head()"
   ]
  },
  {
   "cell_type": "markdown",
   "metadata": {},
   "source": [
    "<b><font size=\"3\">Duplicates</font><a class=\"anchor\"><a id='toc'></a></b>"
   ]
  },
  {
   "cell_type": "code",
   "execution_count": 20,
   "metadata": {},
   "outputs": [
    {
     "data": {
      "text/html": [
       "<div>\n",
       "<style scoped>\n",
       "    .dataframe tbody tr th:only-of-type {\n",
       "        vertical-align: middle;\n",
       "    }\n",
       "\n",
       "    .dataframe tbody tr th {\n",
       "        vertical-align: top;\n",
       "    }\n",
       "\n",
       "    .dataframe thead th {\n",
       "        text-align: right;\n",
       "    }\n",
       "</style>\n",
       "<table border=\"1\" class=\"dataframe\">\n",
       "  <thead>\n",
       "    <tr style=\"text-align: right;\">\n",
       "      <th></th>\n",
       "      <th>Aging_Time</th>\n",
       "      <th>Litters_Barrel</th>\n",
       "      <th>Type</th>\n",
       "      <th>Magnesium</th>\n",
       "      <th>Residual_Sugar</th>\n",
       "      <th>Barrel</th>\n",
       "      <th>Grapes</th>\n",
       "      <th>Acidity</th>\n",
       "      <th>Floral</th>\n",
       "      <th>Wood</th>\n",
       "      <th>...</th>\n",
       "      <th>Citric</th>\n",
       "      <th>Density</th>\n",
       "      <th>Color_Intensity</th>\n",
       "      <th>Cloudiness</th>\n",
       "      <th>Alcohol</th>\n",
       "      <th>Astringency</th>\n",
       "      <th>Satisfaction_France</th>\n",
       "      <th>Satisfaction_Spain</th>\n",
       "      <th>Satisfaction_Portugal</th>\n",
       "      <th>Sulphites_Presence</th>\n",
       "    </tr>\n",
       "    <tr>\n",
       "      <th>WineID</th>\n",
       "      <th></th>\n",
       "      <th></th>\n",
       "      <th></th>\n",
       "      <th></th>\n",
       "      <th></th>\n",
       "      <th></th>\n",
       "      <th></th>\n",
       "      <th></th>\n",
       "      <th></th>\n",
       "      <th></th>\n",
       "      <th></th>\n",
       "      <th></th>\n",
       "      <th></th>\n",
       "      <th></th>\n",
       "      <th></th>\n",
       "      <th></th>\n",
       "      <th></th>\n",
       "      <th></th>\n",
       "      <th></th>\n",
       "      <th></th>\n",
       "      <th></th>\n",
       "    </tr>\n",
       "  </thead>\n",
       "  <tbody>\n",
       "    <tr>\n",
       "      <th>354</th>\n",
       "      <td>33</td>\n",
       "      <td>3384</td>\n",
       "      <td>White</td>\n",
       "      <td>0</td>\n",
       "      <td>0.0</td>\n",
       "      <td>Aluminium</td>\n",
       "      <td>Single</td>\n",
       "      <td>5</td>\n",
       "      <td>5</td>\n",
       "      <td>0</td>\n",
       "      <td>...</td>\n",
       "      <td>0</td>\n",
       "      <td>1</td>\n",
       "      <td>1</td>\n",
       "      <td>3</td>\n",
       "      <td>0</td>\n",
       "      <td>4</td>\n",
       "      <td>8</td>\n",
       "      <td>8</td>\n",
       "      <td>2</td>\n",
       "      <td>1</td>\n",
       "    </tr>\n",
       "    <tr>\n",
       "      <th>354</th>\n",
       "      <td>33</td>\n",
       "      <td>3384</td>\n",
       "      <td>White</td>\n",
       "      <td>0</td>\n",
       "      <td>0.0</td>\n",
       "      <td>Aluminium</td>\n",
       "      <td>Single</td>\n",
       "      <td>5</td>\n",
       "      <td>5</td>\n",
       "      <td>0</td>\n",
       "      <td>...</td>\n",
       "      <td>0</td>\n",
       "      <td>1</td>\n",
       "      <td>1</td>\n",
       "      <td>3</td>\n",
       "      <td>0</td>\n",
       "      <td>4</td>\n",
       "      <td>8</td>\n",
       "      <td>8</td>\n",
       "      <td>2</td>\n",
       "      <td>1</td>\n",
       "    </tr>\n",
       "  </tbody>\n",
       "</table>\n",
       "<p>2 rows × 22 columns</p>\n",
       "</div>"
      ],
      "text/plain": [
       "        Aging_Time  Litters_Barrel   Type  Magnesium  Residual_Sugar  \\\n",
       "WineID                                                                 \n",
       "354             33            3384  White          0             0.0   \n",
       "354             33            3384  White          0             0.0   \n",
       "\n",
       "           Barrel  Grapes  Acidity  Floral  Wood  ...  Citric  Density  \\\n",
       "WineID                                            ...                    \n",
       "354     Aluminium  Single        5       5     0  ...       0        1   \n",
       "354     Aluminium  Single        5       5     0  ...       0        1   \n",
       "\n",
       "        Color_Intensity  Cloudiness  Alcohol  Astringency  \\\n",
       "WineID                                                      \n",
       "354                   1           3        0            4   \n",
       "354                   1           3        0            4   \n",
       "\n",
       "        Satisfaction_France  Satisfaction_Spain  Satisfaction_Portugal  \\\n",
       "WineID                                                                   \n",
       "354                       8                   8                      2   \n",
       "354                       8                   8                      2   \n",
       "\n",
       "        Sulphites_Presence  \n",
       "WineID                      \n",
       "354                      1  \n",
       "354                      1  \n",
       "\n",
       "[2 rows x 22 columns]"
      ]
     },
     "execution_count": 20,
     "metadata": {},
     "output_type": "execute_result"
    }
   ],
   "source": [
    "# Check if there are duplicate rows\n",
    "wm[wm.duplicated(keep=False)]"
   ]
  },
  {
   "cell_type": "markdown",
   "metadata": {},
   "source": [
    "There are two rows that are duplicated."
   ]
  },
  {
   "cell_type": "code",
   "execution_count": 21,
   "metadata": {},
   "outputs": [
    {
     "data": {
      "text/html": [
       "<div>\n",
       "<style scoped>\n",
       "    .dataframe tbody tr th:only-of-type {\n",
       "        vertical-align: middle;\n",
       "    }\n",
       "\n",
       "    .dataframe tbody tr th {\n",
       "        vertical-align: top;\n",
       "    }\n",
       "\n",
       "    .dataframe thead th {\n",
       "        text-align: right;\n",
       "    }\n",
       "</style>\n",
       "<table border=\"1\" class=\"dataframe\">\n",
       "  <thead>\n",
       "    <tr style=\"text-align: right;\">\n",
       "      <th></th>\n",
       "      <th>Aging_Time</th>\n",
       "      <th>Litters_Barrel</th>\n",
       "      <th>Type</th>\n",
       "      <th>Magnesium</th>\n",
       "      <th>Residual_Sugar</th>\n",
       "      <th>Barrel</th>\n",
       "      <th>Grapes</th>\n",
       "      <th>Acidity</th>\n",
       "      <th>Floral</th>\n",
       "      <th>Wood</th>\n",
       "      <th>...</th>\n",
       "      <th>Citric</th>\n",
       "      <th>Density</th>\n",
       "      <th>Color_Intensity</th>\n",
       "      <th>Cloudiness</th>\n",
       "      <th>Alcohol</th>\n",
       "      <th>Astringency</th>\n",
       "      <th>Satisfaction_France</th>\n",
       "      <th>Satisfaction_Spain</th>\n",
       "      <th>Satisfaction_Portugal</th>\n",
       "      <th>Sulphites_Presence</th>\n",
       "    </tr>\n",
       "    <tr>\n",
       "      <th>WineID</th>\n",
       "      <th></th>\n",
       "      <th></th>\n",
       "      <th></th>\n",
       "      <th></th>\n",
       "      <th></th>\n",
       "      <th></th>\n",
       "      <th></th>\n",
       "      <th></th>\n",
       "      <th></th>\n",
       "      <th></th>\n",
       "      <th></th>\n",
       "      <th></th>\n",
       "      <th></th>\n",
       "      <th></th>\n",
       "      <th></th>\n",
       "      <th></th>\n",
       "      <th></th>\n",
       "      <th></th>\n",
       "      <th></th>\n",
       "      <th></th>\n",
       "      <th></th>\n",
       "    </tr>\n",
       "  </thead>\n",
       "  <tbody>\n",
       "  </tbody>\n",
       "</table>\n",
       "<p>0 rows × 22 columns</p>\n",
       "</div>"
      ],
      "text/plain": [
       "Empty DataFrame\n",
       "Columns: [Aging_Time, Litters_Barrel, Type, Magnesium, Residual_Sugar, Barrel, Grapes, Acidity, Floral, Wood, Sweetness, Red_Fruit, Citric, Density, Color_Intensity, Cloudiness, Alcohol, Astringency, Satisfaction_France, Satisfaction_Spain, Satisfaction_Portugal, Sulphites_Presence]\n",
       "Index: []\n",
       "\n",
       "[0 rows x 22 columns]"
      ]
     },
     "execution_count": 21,
     "metadata": {},
     "output_type": "execute_result"
    }
   ],
   "source": [
    "# Drop dulicate rows and check again\n",
    "wm.drop_duplicates(inplace = True)\n",
    "wm[wm.duplicated(keep=False)]"
   ]
  },
  {
   "cell_type": "markdown",
   "metadata": {},
   "source": [
    "Now there are no more duplicated rows."
   ]
  },
  {
   "cell_type": "markdown",
   "metadata": {},
   "source": [
    "<b><font size=\"3\">Coherence - Cloudiness</font><a class=\"anchor\"><a id='toc'></a></b>"
   ]
  },
  {
   "cell_type": "code",
   "execution_count": 22,
   "metadata": {},
   "outputs": [
    {
     "data": {
      "text/plain": [
       "6"
      ]
     },
     "execution_count": 22,
     "metadata": {},
     "output_type": "execute_result"
    }
   ],
   "source": [
    "# Check variable Cloudiness\n",
    "wm['Cloudiness'].max()"
   ]
  },
  {
   "cell_type": "markdown",
   "metadata": {},
   "source": [
    "Cloudiness has 6 as max value while 5 is the maximum value"
   ]
  },
  {
   "cell_type": "code",
   "execution_count": 23,
   "metadata": {},
   "outputs": [
    {
     "data": {
      "text/plain": [
       "5"
      ]
     },
     "execution_count": 23,
     "metadata": {},
     "output_type": "execute_result"
    }
   ],
   "source": [
    "# Redefine values that are higher than 5 to 5\n",
    "wm.loc[wm['Cloudiness']>5,'Cloudiness']=5\n",
    "wm['Cloudiness'].max()"
   ]
  },
  {
   "cell_type": "markdown",
   "metadata": {},
   "source": [
    "# !!Check on more incoherences!!"
   ]
  },
  {
   "cell_type": "markdown",
   "metadata": {},
   "source": [
    "<b><font size=\"3\">Outliers</font><a class=\"anchor\"><a id='toc'></a></b>"
   ]
  },
  {
   "cell_type": "code",
   "execution_count": 24,
   "metadata": {},
   "outputs": [
    {
     "data": {
      "text/plain": [
       "<AxesSubplot:xlabel='Satisfaction_Portugal'>"
      ]
     },
     "execution_count": 24,
     "metadata": {},
     "output_type": "execute_result"
    },
    {
     "data": {
      "image/png": "[encoded data removed]",
      "text/plain": [
       "<Figure size 1224x1440 with 18 Axes>"
      ]
     },
     "metadata": {
      "needs_background": "light"
     },
     "output_type": "display_data"
    }
   ],
   "source": [
    "# Plotting a 6 rows X 3 columns plot showing all boxplots\n",
    "fig, axes = plt.subplots(6, 3, figsize=(17, 20))\n",
    "\n",
    "# Headline for the 6 rows X 3 columns plot\n",
    "fig.suptitle('Are there any outliers?')\n",
    "\n",
    "# Defining all boxplots shown in the 6 rows X 3 columns plot\n",
    "sns.boxplot(ax = axes[0,0], x='Aging_Time', data = wm)\n",
    "sns.boxplot(ax=axes[0, 1], x='Litters_Barrel', data = wm)\n",
    "sns.boxplot(ax=axes[0, 2], x='Magnesium', data = wm)\n",
    "sns.boxplot(ax=axes[1, 0], x='Residual_Sugar', data = wm)\n",
    "sns.boxplot(ax=axes[1, 1], x='Acidity', data = wm)\n",
    "sns.boxplot(ax=axes[1, 2], x='Floral', data = wm)\n",
    "sns.boxplot(ax=axes[2, 0], x='Wood', data = wm)\n",
    "sns.boxplot(ax=axes[2, 1], x='Sweetness', data = wm)\n",
    "sns.boxplot(ax=axes[2, 2], x='Red_Fruit', data = wm)\n",
    "sns.boxplot(ax=axes[3, 0], x='Citric', data = wm)\n",
    "sns.boxplot(ax=axes[3, 1], x='Density', data = wm)\n",
    "sns.boxplot(ax=axes[3, 2], x='Color_Intensity', data = wm)\n",
    "sns.boxplot(ax=axes[4, 0], x='Cloudiness', data = wm)\n",
    "sns.boxplot(ax=axes[4, 1], x='Alcohol', data = wm)\n",
    "sns.boxplot(ax=axes[4, 2], x='Astringency', data = wm)\n",
    "sns.boxplot(ax=axes[5, 0], x='Satisfaction_France', data = wm)\n",
    "sns.boxplot(ax=axes[5, 1], x='Satisfaction_Spain', data = wm)\n",
    "sns.boxplot(ax=axes[5, 2], x='Satisfaction_Portugal', data = wm)"
   ]
  },
  {
   "cell_type": "markdown",
   "metadata": {},
   "source": [
    "We have 5 cases of outliers: Litters_Barrel, Magnesium, Residual_Sugar, Floral and Cloudiness.\n",
    "\n",
    "# !!Deal with outliers!!"
   ]
  },
  {
   "cell_type": "markdown",
   "metadata": {},
   "source": [
    "<b><font size=\"3\">Missing Values</font><a class=\"anchor\"><a id='toc'></a></b>"
   ]
  },
  {
   "cell_type": "code",
   "execution_count": 25,
   "metadata": {},
   "outputs": [
    {
     "data": {
      "text/plain": [
       "Aging_Time                 0\n",
       "Litters_Barrel             0\n",
       "Type                       0\n",
       "Magnesium                  0\n",
       "Residual_Sugar           391\n",
       "Barrel                    56\n",
       "Grapes                     8\n",
       "Acidity                    0\n",
       "Floral                     0\n",
       "Wood                       0\n",
       "Sweetness                  0\n",
       "Red_Fruit                  0\n",
       "Citric                     0\n",
       "Density                    0\n",
       "Color_Intensity            0\n",
       "Cloudiness                 0\n",
       "Alcohol                    0\n",
       "Astringency                0\n",
       "Satisfaction_France        0\n",
       "Satisfaction_Spain         0\n",
       "Satisfaction_Portugal      0\n",
       "Sulphites_Presence         0\n",
       "dtype: int64"
      ]
     },
     "execution_count": 25,
     "metadata": {},
     "output_type": "execute_result"
    }
   ],
   "source": [
    "# Checking sum of missing value per variable\n",
    "wm.isna().sum()"
   ]
  },
  {
   "cell_type": "markdown",
   "metadata": {},
   "source": [
    "We have missing values for: \n",
    "- Residual_Sugar\n",
    "- Barrel  \n",
    "- Grapes."
   ]
  },
  {
   "cell_type": "markdown",
   "metadata": {},
   "source": [
    "<b><font size=\"3\">Treatment of missing value in numerical variable 'Residual_Sugar'</font><a class=\"anchor\"><a id='toc'></a></b>"
   ]
  },
  {
   "cell_type": "code",
   "execution_count": 26,
   "metadata": {},
   "outputs": [
    {
     "data": {
      "text/plain": [
       "6.670169581400357"
      ]
     },
     "execution_count": 26,
     "metadata": {},
     "output_type": "execute_result"
    }
   ],
   "source": [
    "# Skewness of Residual_Sugar\n",
    "wm['Residual_Sugar'].skew()"
   ]
  },
  {
   "cell_type": "markdown",
   "metadata": {},
   "source": [
    "As we can see Residual_Sugar has a high positive skew. That's why the missing values should be replaced with the mode."
   ]
  },
  {
   "cell_type": "code",
   "execution_count": 27,
   "metadata": {},
   "outputs": [],
   "source": [
    "# Replacing missing values with the mode - numeric variables\n",
    "wm['Residual_Sugar'].fillna(wm['Residual_Sugar'].mode()[0], inplace=True)"
   ]
  },
  {
   "cell_type": "code",
   "execution_count": 28,
   "metadata": {},
   "outputs": [
    {
     "data": {
      "text/plain": [
       "Aging_Time                0\n",
       "Litters_Barrel            0\n",
       "Type                      0\n",
       "Magnesium                 0\n",
       "Residual_Sugar            0\n",
       "Barrel                   56\n",
       "Grapes                    8\n",
       "Acidity                   0\n",
       "Floral                    0\n",
       "Wood                      0\n",
       "Sweetness                 0\n",
       "Red_Fruit                 0\n",
       "Citric                    0\n",
       "Density                   0\n",
       "Color_Intensity           0\n",
       "Cloudiness                0\n",
       "Alcohol                   0\n",
       "Astringency               0\n",
       "Satisfaction_France       0\n",
       "Satisfaction_Spain        0\n",
       "Satisfaction_Portugal     0\n",
       "Sulphites_Presence        0\n",
       "dtype: int64"
      ]
     },
     "execution_count": 28,
     "metadata": {},
     "output_type": "execute_result"
    }
   ],
   "source": [
    "# Checking sum of missing value per variable after treatment of Residual_Sugar\n",
    "wm.isna().sum()"
   ]
  },
  {
   "cell_type": "markdown",
   "metadata": {},
   "source": [
    "<b><font size=\"3\">Treatment of missing values in categorical variables 'Barrel' and 'Grapes'</font><a class=\"anchor\"><a id='toc'></a></b>"
   ]
  },
  {
   "cell_type": "markdown",
   "metadata": {},
   "source": [
    "Because the missing values in the categorical variables are less than 3% of all values we can drop them."
   ]
  },
  {
   "cell_type": "code",
   "execution_count": 29,
   "metadata": {},
   "outputs": [],
   "source": [
    "# Remove missing values from categorical variables\n",
    "wm_cleaned = wm.dropna(axis = 0, how ='any')"
   ]
  },
  {
   "cell_type": "code",
   "execution_count": 30,
   "metadata": {},
   "outputs": [
    {
     "data": {
      "text/plain": [
       "Aging_Time               0\n",
       "Litters_Barrel           0\n",
       "Type                     0\n",
       "Magnesium                0\n",
       "Residual_Sugar           0\n",
       "Barrel                   0\n",
       "Grapes                   0\n",
       "Acidity                  0\n",
       "Floral                   0\n",
       "Wood                     0\n",
       "Sweetness                0\n",
       "Red_Fruit                0\n",
       "Citric                   0\n",
       "Density                  0\n",
       "Color_Intensity          0\n",
       "Cloudiness               0\n",
       "Alcohol                  0\n",
       "Astringency              0\n",
       "Satisfaction_France      0\n",
       "Satisfaction_Spain       0\n",
       "Satisfaction_Portugal    0\n",
       "Sulphites_Presence       0\n",
       "dtype: int64"
      ]
     },
     "execution_count": 30,
     "metadata": {},
     "output_type": "execute_result"
    }
   ],
   "source": [
    "# Checking sum of missing value per variable after treatment of Barrel and Grapes\n",
    "wm_cleaned.isna().sum()"
   ]
  },
  {
   "cell_type": "markdown",
   "metadata": {},
   "source": [
    "As we can see there are no missing values left."
   ]
  },
  {
   "cell_type": "code",
   "execution_count": 31,
   "metadata": {},
   "outputs": [
    {
     "data": {
      "text/plain": [
       "(129816, 22)"
      ]
     },
     "execution_count": 31,
     "metadata": {},
     "output_type": "execute_result"
    }
   ],
   "source": [
    "wm_cleaned.shape"
   ]
  },
  {
   "cell_type": "markdown",
   "metadata": {},
   "source": [
    "<b><font size=\"3\">Segmentation</font><a class=\"anchor\"><a id='toc'></a></b>"
   ]
  },
  {
   "cell_type": "markdown",
   "metadata": {},
   "source": [
    "There are two segmentation which will be used from now on:\n",
    "- flavor/ feeling\n",
    "- production characteristics"
   ]
  },
  {
   "cell_type": "code",
   "execution_count": 34,
   "metadata": {},
   "outputs": [
    {
     "data": {
      "text/html": [
       "<div>\n",
       "<style scoped>\n",
       "    .dataframe tbody tr th:only-of-type {\n",
       "        vertical-align: middle;\n",
       "    }\n",
       "\n",
       "    .dataframe tbody tr th {\n",
       "        vertical-align: top;\n",
       "    }\n",
       "\n",
       "    .dataframe thead th {\n",
       "        text-align: right;\n",
       "    }\n",
       "</style>\n",
       "<table border=\"1\" class=\"dataframe\">\n",
       "  <thead>\n",
       "    <tr style=\"text-align: right;\">\n",
       "      <th></th>\n",
       "      <th>Residual_Sugar</th>\n",
       "      <th>Acidity</th>\n",
       "      <th>Floral</th>\n",
       "      <th>Wood</th>\n",
       "      <th>Sweetness</th>\n",
       "      <th>Red_Fruit</th>\n",
       "      <th>Citric</th>\n",
       "      <th>Density</th>\n",
       "      <th>Cloudiness</th>\n",
       "      <th>Alcohol</th>\n",
       "      <th>Astringency</th>\n",
       "    </tr>\n",
       "    <tr>\n",
       "      <th>WineID</th>\n",
       "      <th></th>\n",
       "      <th></th>\n",
       "      <th></th>\n",
       "      <th></th>\n",
       "      <th></th>\n",
       "      <th></th>\n",
       "      <th></th>\n",
       "      <th></th>\n",
       "      <th></th>\n",
       "      <th></th>\n",
       "      <th></th>\n",
       "    </tr>\n",
       "  </thead>\n",
       "  <tbody>\n",
       "    <tr>\n",
       "      <th>1</th>\n",
       "      <td>0.0</td>\n",
       "      <td>0</td>\n",
       "      <td>5</td>\n",
       "      <td>0</td>\n",
       "      <td>2</td>\n",
       "      <td>2</td>\n",
       "      <td>4</td>\n",
       "      <td>2</td>\n",
       "      <td>3</td>\n",
       "      <td>0</td>\n",
       "      <td>0</td>\n",
       "    </tr>\n",
       "    <tr>\n",
       "      <th>2</th>\n",
       "      <td>305.0</td>\n",
       "      <td>4</td>\n",
       "      <td>2</td>\n",
       "      <td>0</td>\n",
       "      <td>3</td>\n",
       "      <td>0</td>\n",
       "      <td>2</td>\n",
       "      <td>2</td>\n",
       "      <td>4</td>\n",
       "      <td>0</td>\n",
       "      <td>0</td>\n",
       "    </tr>\n",
       "    <tr>\n",
       "      <th>3</th>\n",
       "      <td>0.0</td>\n",
       "      <td>3</td>\n",
       "      <td>4</td>\n",
       "      <td>0</td>\n",
       "      <td>3</td>\n",
       "      <td>2</td>\n",
       "      <td>0</td>\n",
       "      <td>2</td>\n",
       "      <td>3</td>\n",
       "      <td>0</td>\n",
       "      <td>0</td>\n",
       "    </tr>\n",
       "    <tr>\n",
       "      <th>4</th>\n",
       "      <td>0.0</td>\n",
       "      <td>0</td>\n",
       "      <td>4</td>\n",
       "      <td>0</td>\n",
       "      <td>3</td>\n",
       "      <td>3</td>\n",
       "      <td>4</td>\n",
       "      <td>3</td>\n",
       "      <td>1</td>\n",
       "      <td>0</td>\n",
       "      <td>0</td>\n",
       "    </tr>\n",
       "    <tr>\n",
       "      <th>5</th>\n",
       "      <td>0.0</td>\n",
       "      <td>0</td>\n",
       "      <td>4</td>\n",
       "      <td>0</td>\n",
       "      <td>3</td>\n",
       "      <td>4</td>\n",
       "      <td>3</td>\n",
       "      <td>4</td>\n",
       "      <td>2</td>\n",
       "      <td>0</td>\n",
       "      <td>0</td>\n",
       "    </tr>\n",
       "    <tr>\n",
       "      <th>...</th>\n",
       "      <td>...</td>\n",
       "      <td>...</td>\n",
       "      <td>...</td>\n",
       "      <td>...</td>\n",
       "      <td>...</td>\n",
       "      <td>...</td>\n",
       "      <td>...</td>\n",
       "      <td>...</td>\n",
       "      <td>...</td>\n",
       "      <td>...</td>\n",
       "      <td>...</td>\n",
       "    </tr>\n",
       "    <tr>\n",
       "      <th>129876</th>\n",
       "      <td>0.0</td>\n",
       "      <td>3</td>\n",
       "      <td>4</td>\n",
       "      <td>5</td>\n",
       "      <td>3</td>\n",
       "      <td>2</td>\n",
       "      <td>5</td>\n",
       "      <td>2</td>\n",
       "      <td>3</td>\n",
       "      <td>5</td>\n",
       "      <td>5</td>\n",
       "    </tr>\n",
       "    <tr>\n",
       "      <th>129877</th>\n",
       "      <td>172.0</td>\n",
       "      <td>3</td>\n",
       "      <td>1</td>\n",
       "      <td>2</td>\n",
       "      <td>4</td>\n",
       "      <td>2</td>\n",
       "      <td>1</td>\n",
       "      <td>1</td>\n",
       "      <td>2</td>\n",
       "      <td>2</td>\n",
       "      <td>3</td>\n",
       "    </tr>\n",
       "    <tr>\n",
       "      <th>129878</th>\n",
       "      <td>163.0</td>\n",
       "      <td>3</td>\n",
       "      <td>2</td>\n",
       "      <td>3</td>\n",
       "      <td>3</td>\n",
       "      <td>3</td>\n",
       "      <td>2</td>\n",
       "      <td>2</td>\n",
       "      <td>4</td>\n",
       "      <td>3</td>\n",
       "      <td>0</td>\n",
       "    </tr>\n",
       "    <tr>\n",
       "      <th>129879</th>\n",
       "      <td>205.0</td>\n",
       "      <td>2</td>\n",
       "      <td>2</td>\n",
       "      <td>3</td>\n",
       "      <td>2</td>\n",
       "      <td>3</td>\n",
       "      <td>2</td>\n",
       "      <td>2</td>\n",
       "      <td>3</td>\n",
       "      <td>3</td>\n",
       "      <td>2</td>\n",
       "    </tr>\n",
       "    <tr>\n",
       "      <th>129880</th>\n",
       "      <td>186.0</td>\n",
       "      <td>5</td>\n",
       "      <td>3</td>\n",
       "      <td>3</td>\n",
       "      <td>3</td>\n",
       "      <td>3</td>\n",
       "      <td>3</td>\n",
       "      <td>3</td>\n",
       "      <td>5</td>\n",
       "      <td>3</td>\n",
       "      <td>4</td>\n",
       "    </tr>\n",
       "  </tbody>\n",
       "</table>\n",
       "<p>129816 rows × 11 columns</p>\n",
       "</div>"
      ],
      "text/plain": [
       "        Residual_Sugar  Acidity  Floral  Wood  Sweetness  Red_Fruit  Citric  \\\n",
       "WineID                                                                        \n",
       "1                  0.0        0       5     0          2          2       4   \n",
       "2                305.0        4       2     0          3          0       2   \n",
       "3                  0.0        3       4     0          3          2       0   \n",
       "4                  0.0        0       4     0          3          3       4   \n",
       "5                  0.0        0       4     0          3          4       3   \n",
       "...                ...      ...     ...   ...        ...        ...     ...   \n",
       "129876             0.0        3       4     5          3          2       5   \n",
       "129877           172.0        3       1     2          4          2       1   \n",
       "129878           163.0        3       2     3          3          3       2   \n",
       "129879           205.0        2       2     3          2          3       2   \n",
       "129880           186.0        5       3     3          3          3       3   \n",
       "\n",
       "        Density  Cloudiness  Alcohol  Astringency  \n",
       "WineID                                             \n",
       "1             2           3        0            0  \n",
       "2             2           4        0            0  \n",
       "3             2           3        0            0  \n",
       "4             3           1        0            0  \n",
       "5             4           2        0            0  \n",
       "...         ...         ...      ...          ...  \n",
       "129876        2           3        5            5  \n",
       "129877        1           2        2            3  \n",
       "129878        2           4        3            0  \n",
       "129879        2           3        3            2  \n",
       "129880        3           5        3            4  \n",
       "\n",
       "[129816 rows x 11 columns]"
      ]
     },
     "execution_count": 34,
     "metadata": {},
     "output_type": "execute_result"
    }
   ],
   "source": [
    "# Definition of flavor/ feeling segmentation in wm_flavfeel\n",
    "wm_flavfeel = wm_cleaned[['Residual_Sugar','Acidity','Floral','Wood','Sweetness','Red_Fruit','Citric','Density','Cloudiness','Alcohol','Astringency']].copy()\n",
    "wm_flavfeel"
   ]
  },
  {
   "cell_type": "code",
   "execution_count": 35,
   "metadata": {},
   "outputs": [
    {
     "data": {
      "text/html": [
       "<div>\n",
       "<style scoped>\n",
       "    .dataframe tbody tr th:only-of-type {\n",
       "        vertical-align: middle;\n",
       "    }\n",
       "\n",
       "    .dataframe tbody tr th {\n",
       "        vertical-align: top;\n",
       "    }\n",
       "\n",
       "    .dataframe thead th {\n",
       "        text-align: right;\n",
       "    }\n",
       "</style>\n",
       "<table border=\"1\" class=\"dataframe\">\n",
       "  <thead>\n",
       "    <tr style=\"text-align: right;\">\n",
       "      <th></th>\n",
       "      <th>Aging_Time</th>\n",
       "      <th>Litters_Barrel</th>\n",
       "      <th>Type</th>\n",
       "      <th>Magnesium</th>\n",
       "      <th>Sulphites_Presence</th>\n",
       "      <th>Barrel</th>\n",
       "      <th>Grapes</th>\n",
       "      <th>Color_Intensity</th>\n",
       "      <th>Satisfaction_France</th>\n",
       "      <th>Satisfaction_Spain</th>\n",
       "      <th>Satisfaction_Portugal</th>\n",
       "    </tr>\n",
       "    <tr>\n",
       "      <th>WineID</th>\n",
       "      <th></th>\n",
       "      <th></th>\n",
       "      <th></th>\n",
       "      <th></th>\n",
       "      <th></th>\n",
       "      <th></th>\n",
       "      <th></th>\n",
       "      <th></th>\n",
       "      <th></th>\n",
       "      <th></th>\n",
       "      <th></th>\n",
       "    </tr>\n",
       "  </thead>\n",
       "  <tbody>\n",
       "    <tr>\n",
       "      <th>1</th>\n",
       "      <td>65</td>\n",
       "      <td>265</td>\n",
       "      <td>White</td>\n",
       "      <td>0</td>\n",
       "      <td>0</td>\n",
       "      <td>Aluminium</td>\n",
       "      <td>Single</td>\n",
       "      <td>3</td>\n",
       "      <td>6</td>\n",
       "      <td>6</td>\n",
       "      <td>4</td>\n",
       "    </tr>\n",
       "    <tr>\n",
       "      <th>2</th>\n",
       "      <td>47</td>\n",
       "      <td>2464</td>\n",
       "      <td>Red</td>\n",
       "      <td>310</td>\n",
       "      <td>1</td>\n",
       "      <td>Aluminium</td>\n",
       "      <td>Single</td>\n",
       "      <td>3</td>\n",
       "      <td>8</td>\n",
       "      <td>6</td>\n",
       "      <td>4</td>\n",
       "    </tr>\n",
       "    <tr>\n",
       "      <th>3</th>\n",
       "      <td>15</td>\n",
       "      <td>2138</td>\n",
       "      <td>White</td>\n",
       "      <td>0</td>\n",
       "      <td>0</td>\n",
       "      <td>Aluminium</td>\n",
       "      <td>Single</td>\n",
       "      <td>2</td>\n",
       "      <td>8</td>\n",
       "      <td>8</td>\n",
       "      <td>4</td>\n",
       "    </tr>\n",
       "    <tr>\n",
       "      <th>4</th>\n",
       "      <td>60</td>\n",
       "      <td>623</td>\n",
       "      <td>White</td>\n",
       "      <td>0</td>\n",
       "      <td>0</td>\n",
       "      <td>Aluminium</td>\n",
       "      <td>Single</td>\n",
       "      <td>1</td>\n",
       "      <td>2</td>\n",
       "      <td>2</td>\n",
       "      <td>6</td>\n",
       "    </tr>\n",
       "    <tr>\n",
       "      <th>5</th>\n",
       "      <td>70</td>\n",
       "      <td>354</td>\n",
       "      <td>White</td>\n",
       "      <td>0</td>\n",
       "      <td>0</td>\n",
       "      <td>Aluminium</td>\n",
       "      <td>Single</td>\n",
       "      <td>2</td>\n",
       "      <td>4</td>\n",
       "      <td>4</td>\n",
       "      <td>10</td>\n",
       "    </tr>\n",
       "    <tr>\n",
       "      <th>...</th>\n",
       "      <td>...</td>\n",
       "      <td>...</td>\n",
       "      <td>...</td>\n",
       "      <td>...</td>\n",
       "      <td>...</td>\n",
       "      <td>...</td>\n",
       "      <td>...</td>\n",
       "      <td>...</td>\n",
       "      <td>...</td>\n",
       "      <td>...</td>\n",
       "      <td>...</td>\n",
       "    </tr>\n",
       "    <tr>\n",
       "      <th>129876</th>\n",
       "      <td>29</td>\n",
       "      <td>1731</td>\n",
       "      <td>White</td>\n",
       "      <td>0</td>\n",
       "      <td>0</td>\n",
       "      <td>Wooden</td>\n",
       "      <td>Single</td>\n",
       "      <td>2</td>\n",
       "      <td>8</td>\n",
       "      <td>8</td>\n",
       "      <td>4</td>\n",
       "    </tr>\n",
       "    <tr>\n",
       "      <th>129877</th>\n",
       "      <td>63</td>\n",
       "      <td>2087</td>\n",
       "      <td>Red</td>\n",
       "      <td>174</td>\n",
       "      <td>1</td>\n",
       "      <td>Wooden</td>\n",
       "      <td>Single</td>\n",
       "      <td>3</td>\n",
       "      <td>6</td>\n",
       "      <td>4</td>\n",
       "      <td>2</td>\n",
       "    </tr>\n",
       "    <tr>\n",
       "      <th>129878</th>\n",
       "      <td>69</td>\n",
       "      <td>2320</td>\n",
       "      <td>Red</td>\n",
       "      <td>155</td>\n",
       "      <td>0</td>\n",
       "      <td>Wooden</td>\n",
       "      <td>Single</td>\n",
       "      <td>4</td>\n",
       "      <td>8</td>\n",
       "      <td>6</td>\n",
       "      <td>4</td>\n",
       "    </tr>\n",
       "    <tr>\n",
       "      <th>129879</th>\n",
       "      <td>66</td>\n",
       "      <td>2450</td>\n",
       "      <td>Red</td>\n",
       "      <td>193</td>\n",
       "      <td>0</td>\n",
       "      <td>Wooden</td>\n",
       "      <td>Single</td>\n",
       "      <td>3</td>\n",
       "      <td>6</td>\n",
       "      <td>2</td>\n",
       "      <td>4</td>\n",
       "    </tr>\n",
       "    <tr>\n",
       "      <th>129880</th>\n",
       "      <td>38</td>\n",
       "      <td>4307</td>\n",
       "      <td>White</td>\n",
       "      <td>185</td>\n",
       "      <td>0</td>\n",
       "      <td>Wooden</td>\n",
       "      <td>Single</td>\n",
       "      <td>4</td>\n",
       "      <td>10</td>\n",
       "      <td>6</td>\n",
       "      <td>6</td>\n",
       "    </tr>\n",
       "  </tbody>\n",
       "</table>\n",
       "<p>129816 rows × 11 columns</p>\n",
       "</div>"
      ],
      "text/plain": [
       "        Aging_Time  Litters_Barrel   Type  Magnesium  Sulphites_Presence  \\\n",
       "WineID                                                                     \n",
       "1               65             265  White          0                   0   \n",
       "2               47            2464    Red        310                   1   \n",
       "3               15            2138  White          0                   0   \n",
       "4               60             623  White          0                   0   \n",
       "5               70             354  White          0                   0   \n",
       "...            ...             ...    ...        ...                 ...   \n",
       "129876          29            1731  White          0                   0   \n",
       "129877          63            2087    Red        174                   1   \n",
       "129878          69            2320    Red        155                   0   \n",
       "129879          66            2450    Red        193                   0   \n",
       "129880          38            4307  White        185                   0   \n",
       "\n",
       "           Barrel  Grapes  Color_Intensity  Satisfaction_France  \\\n",
       "WineID                                                            \n",
       "1       Aluminium  Single                3                    6   \n",
       "2       Aluminium  Single                3                    8   \n",
       "3       Aluminium  Single                2                    8   \n",
       "4       Aluminium  Single                1                    2   \n",
       "5       Aluminium  Single                2                    4   \n",
       "...           ...     ...              ...                  ...   \n",
       "129876     Wooden  Single                2                    8   \n",
       "129877     Wooden  Single                3                    6   \n",
       "129878     Wooden  Single                4                    8   \n",
       "129879     Wooden  Single                3                    6   \n",
       "129880     Wooden  Single                4                   10   \n",
       "\n",
       "        Satisfaction_Spain  Satisfaction_Portugal  \n",
       "WineID                                             \n",
       "1                        6                      4  \n",
       "2                        6                      4  \n",
       "3                        8                      4  \n",
       "4                        2                      6  \n",
       "5                        4                     10  \n",
       "...                    ...                    ...  \n",
       "129876                   8                      4  \n",
       "129877                   4                      2  \n",
       "129878                   6                      4  \n",
       "129879                   2                      4  \n",
       "129880                   6                      6  \n",
       "\n",
       "[129816 rows x 11 columns]"
      ]
     },
     "execution_count": 35,
     "metadata": {},
     "output_type": "execute_result"
    }
   ],
   "source": [
    "# Definition of production characteristics segmentation in wm_prodchar\n",
    "wm_prodchar = wm_cleaned[['Aging_Time','Litters_Barrel','Type','Magnesium','Sulphites_Presence','Barrel','Grapes','Color_Intensity','Satisfaction_France','Satisfaction_Spain','Satisfaction_Portugal']].copy()\n",
    "wm_prodchar"
   ]
  }
 ],
 "metadata": {
  "kernelspec": {
   "display_name": "Python 3",
   "language": "python",
   "name": "python3"
  },
  "language_info": {
   "codemirror_mode": {
    "name": "ipython",
    "version": 3
   },
   "file_extension": ".py",
   "mimetype": "text/x-python",
   "name": "python",
   "nbconvert_exporter": "python",
   "pygments_lexer": "ipython3",
   "version": "3.8.5"
  }
 },
 "nbformat": 4,
 "nbformat_minor": 5
}
